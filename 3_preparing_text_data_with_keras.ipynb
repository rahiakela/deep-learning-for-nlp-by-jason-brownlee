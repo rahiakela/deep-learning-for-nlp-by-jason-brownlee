{
  "nbformat": 4,
  "nbformat_minor": 0,
  "metadata": {
    "colab": {
      "name": "3-preparing-text-data-with-keras.ipynb",
      "provenance": [],
      "toc_visible": true,
      "authorship_tag": "ABX9TyNgo2sCed7Tia6YrxGGrbj1",
      "include_colab_link": true
    },
    "kernelspec": {
      "name": "python3",
      "display_name": "Python 3"
    }
  },
  "cells": [
    {
      "cell_type": "markdown",
      "metadata": {
        "id": "view-in-github",
        "colab_type": "text"
      },
      "source": [
        "<a href=\"https://colab.research.google.com/github/rahiakela/deep-learning-for-nlp-by-jason-brownlee/blob/part-1-data-preparation/3_preparing_text_data_with_keras.ipynb\" target=\"_parent\"><img src=\"https://colab.research.google.com/assets/colab-badge.svg\" alt=\"Open In Colab\"/></a>"
      ]
    },
    {
      "cell_type": "markdown",
      "metadata": {
        "id": "rhqy3bPgpOSE",
        "colab_type": "text"
      },
      "source": [
        "# Preparing Text Data With Keras"
      ]
    },
    {
      "cell_type": "markdown",
      "metadata": {
        "id": "MX4qc9lFpQbX",
        "colab_type": "text"
      },
      "source": [
        "You cannot feed raw text directly into deep learning models. Text data must be encoded as\n",
        "numbers to be used as input or output for machine learning and deep learning models, such\n",
        "as word embeddings. The Keras deep learning library provides some basic tools to help you\n",
        "prepare your text data."
      ]
    },
    {
      "cell_type": "markdown",
      "metadata": {
        "id": "FoM6uJ6izlsk",
        "colab_type": "text"
      },
      "source": [
        "## Setup"
      ]
    },
    {
      "cell_type": "code",
      "metadata": {
        "id": "VwS8YB7Hzm-K",
        "colab_type": "code",
        "colab": {}
      },
      "source": [
        "from __future__ import absolute_import, division, print_function, unicode_literals\n",
        "\n",
        "try:\n",
        "  # %tensorflow_version only exists in Colab.\n",
        "  %tensorflow_version 2.x\n",
        "except Exception:\n",
        "  pass\n",
        "\n",
        "import tensorflow as tf\n",
        "from tensorflow import keras\n",
        "from tensorflow.keras.preprocessing.text import text_to_word_sequence\n",
        "import numpy as np\n",
        "import pandas as pd\n",
        "\n",
        "import matplotlib.pyplot as plt"
      ],
      "execution_count": 0,
      "outputs": []
    },
    {
      "cell_type": "markdown",
      "metadata": {
        "id": "2CTqkrhgpt9A",
        "colab_type": "text"
      },
      "source": [
        "## Split Words with text to word sequence"
      ]
    },
    {
      "cell_type": "markdown",
      "metadata": {
        "id": "XbwNuJ0Gpu-7",
        "colab_type": "text"
      },
      "source": [
        "A good first step when working with text is to split it into words. Words are called tokens and the process of splitting text into tokens is called tokenization. Keras provides the\n",
        "text to word sequence() function that you can use to split text into a list of words. \n",
        "By default, this function automatically does 3 things:\n",
        "\n",
        "* Splits words by space.\n",
        "* Filters out punctuation.\n",
        "* Converts text to lowercase (lower=True)."
      ]
    },
    {
      "cell_type": "code",
      "metadata": {
        "id": "5Z1dYh_IziA0",
        "colab_type": "code",
        "colab": {
          "base_uri": "https://localhost:8080/",
          "height": 35
        },
        "outputId": "0d007d0b-8dc8-426a-f766-dfc029ad9f37"
      },
      "source": [
        "# define the document\n",
        "text = 'The quick brown fox jumped over the lazy dog.'\n",
        "\n",
        "# tokenize the document\n",
        "result = text_to_word_sequence(text)\n",
        "print(result)"
      ],
      "execution_count": 3,
      "outputs": [
        {
          "output_type": "stream",
          "text": [
            "['the', 'quick', 'brown', 'fox', 'jumped', 'over', 'the', 'lazy', 'dog']\n"
          ],
          "name": "stdout"
        }
      ]
    },
    {
      "cell_type": "markdown",
      "metadata": {
        "id": "gWXfnc8Q3Yjr",
        "colab_type": "text"
      },
      "source": [
        "## Encoding with one hot"
      ]
    },
    {
      "cell_type": "markdown",
      "metadata": {
        "id": "5lnQvIQ73bBQ",
        "colab_type": "text"
      },
      "source": [
        ""
      ]
    },
    {
      "cell_type": "code",
      "metadata": {
        "id": "X_MbFe-U3ULG",
        "colab_type": "code",
        "colab": {}
      },
      "source": [
        ""
      ],
      "execution_count": 0,
      "outputs": []
    }
  ]
}