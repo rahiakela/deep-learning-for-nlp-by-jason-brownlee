{
  "nbformat": 4,
  "nbformat_minor": 0,
  "metadata": {
    "colab": {
      "name": "1-develop-word-embeddings-with-gensim.ipynb",
      "provenance": [],
      "toc_visible": true,
      "authorship_tag": "ABX9TyOlg81Mpm8h3Mp5+cUIo3St",
      "include_colab_link": true
    },
    "kernelspec": {
      "name": "python3",
      "display_name": "Python 3"
    }
  },
  "cells": [
    {
      "cell_type": "markdown",
      "metadata": {
        "id": "view-in-github",
        "colab_type": "text"
      },
      "source": [
        "<a href=\"https://colab.research.google.com/github/rahiakela/deep-learning-for-nlp-by-jason-brownlee/blob/part-3-word-embeddings/1_develop_word_embeddings_with_gensim.ipynb\" target=\"_parent\"><img src=\"https://colab.research.google.com/assets/colab-badge.svg\" alt=\"Open In Colab\"/></a>"
      ]
    },
    {
      "cell_type": "markdown",
      "metadata": {
        "id": "-HIt3zVWx2sg",
        "colab_type": "text"
      },
      "source": [
        "# Develop Word Embeddings with Gensim"
      ]
    },
    {
      "cell_type": "markdown",
      "metadata": {
        "id": "7nxZK9MTyBg0",
        "colab_type": "text"
      },
      "source": [
        "Word embeddings are a modern approach for representing text in natural language processing. Embedding algorithms like Word2Vec and GloVe are key to the state-of-the-art results achieved by neural network models on natural language processing problems like machine translation.\n",
        "\n",
        "We will discover how to train and load word embedding models for natural language processing applications in Python using Gensim."
      ]
    },
    {
      "cell_type": "markdown",
      "metadata": {
        "id": "vYoopBd1yqmS",
        "colab_type": "text"
      },
      "source": [
        "## Word Embeddings"
      ]
    },
    {
      "cell_type": "markdown",
      "metadata": {
        "id": "A80iB_D7yrlC",
        "colab_type": "text"
      },
      "source": [
        "A word embedding is an approach to provide a dense vector representation of words that capture something about their meaning. Word embeddings are an improvement over simpler bag-of-word model word encoding schemes like word counts and frequencies that result in large and sparse vectors (mostly 0 values) that describe documents but not the meaning of the words.\n",
        "\n",
        "Word embeddings work by using an algorithm to train a set of fixed-length dense and continuous-valued vectors based on a large corpus of text. Each word is represented by a point in the embedding space and these points are learned and moved around based on the words that surround the target word. It is defining a word by the company that it keeps that allows the word embedding to learn something about the meaning of words. The vector space representation of the words provides a projection where words with similar meanings are locally clustered within the space.\n",
        "\n",
        "The use of word embeddings over other text representations is one of the key methods that has led to breakthrough performance with deep neural networks on problems like machine translation.\n",
        "\n",
        "We are going to look at how to use two different word embedding\n",
        "methods called Word2Vec by researchers at Google and GloVe by researchers at Stanford."
      ]
    },
    {
      "cell_type": "markdown",
      "metadata": {
        "id": "RO2y6dXLzeZd",
        "colab_type": "text"
      },
      "source": [
        "## Gensim Python Library"
      ]
    },
    {
      "cell_type": "markdown",
      "metadata": {
        "id": "1zT_8lwtzfW3",
        "colab_type": "text"
      },
      "source": [
        "Gensim is an open source Python library for natural language processing, with a focus on topic modeling. It is billed as \"topic modeling for humans\".\n",
        "\n",
        "It is not an everything-including-the-kitchen-sink NLP research library (like NLTK); instead, Gensim is a mature, focused, and efficient suite of NLP tools for topic modeling. It supports an implementation of the Word2Vec word embedding for learning new word vectors from text.\n",
        "\n",
        "It also provides tools for loading pre-trained word embeddings in a few formats and for making use and querying a loaded embedding."
      ]
    },
    {
      "cell_type": "markdown",
      "metadata": {
        "id": "AOBw6P3k0O-g",
        "colab_type": "text"
      },
      "source": [
        "## Develop Word2Vec Embedding"
      ]
    },
    {
      "cell_type": "markdown",
      "metadata": {
        "id": "iv745H150Pvj",
        "colab_type": "text"
      },
      "source": [
        "Word2Vec is one algorithm for learning a word embedding from a text corpus. There are two main training algorithms that can be used to learn the embedding from text:-\n",
        "* **Continuous Bag-of-Words (CBOW)**\n",
        "* **Skip-gram**\n",
        "\n",
        "We will not get into the algorithms other than to say that they generally look at a window of words for each target word to provide context and in turn meaning for words.\n",
        "\n",
        "Word2Vec models require a lot of text, e.g. the entire Wikipedia corpus. Nevertheless, we will demonstrate the principles using a small in-memory example of text. \n",
        "\n",
        "Gensim provides the Word2Vec class for working with a Word2Vec model. Learning a word embedding from text involves loading and organizing the text into sentences and providing them to the constructor of a new Word2Vec() instance.\n",
        "\n",
        "```python\n",
        "sentences = ...\n",
        "model = Word2Vec(sentences)\n",
        "```\n",
        "\n",
        "Specifically, each sentence must be tokenized, meaning divided into words and prepared (e.g. perhaps pre-filtered and perhaps converted to a preferred case). The sentences could be text loaded into memory, or an iterator that progressively loads text, required for very large text corpora. \n",
        "\n",
        "There are many parameters on this constructor; a few noteworthy arguments you may wish to configure are:\n",
        "\n",
        "* **size**: (default 100) The number of dimensions of the embedding, e.g. the length of the dense vector to represent each token (word).\n",
        "* **window**: (default 5) The maximum distance between a target word and words around the target word.\n",
        "* **min count**: (default 5) The minimum count of words to consider when training the model; words with an occurrence less than this count will be ignored.\n",
        "* **workers**: (default 3) The number of threads to use while training.\n",
        "* **sg**: (default 0 or CBOW) The training algorithm, either CBOW (0) or skip gram (1).\n",
        "\n",
        "The defaults are often good enough when just getting started. If you have a lot of cores, as most modern computers do, I strongly encourage you to increase workers to match the number of cores (e.g. 8).\n",
        "\n",
        "After the model is trained, it is accessible via the wv attribute. This is the actual word vector model in which queries can be made. \n",
        "\n",
        "For example, you can print the learned vocabulary of tokens (words) as follows:\n",
        "\n",
        "```python\n",
        "words = list(model.wv.vocab)\n",
        "print(words)\n",
        "```\n",
        "\n",
        "You can review the embedded vector for a specific token as follows:\n",
        "\n",
        "```python\n",
        "print(model['word'])\n",
        "```\n",
        "\n",
        "Finally, a trained model can then be saved to file by calling the save word2vec format() function on the word vector model. By default, the model is saved in a binary format to save space.\n",
        "\n",
        "```python\n",
        "model.wv.save_word2vec_format('model.bin')\n",
        "```\n",
        "\n",
        "When getting started, you can save the learned model in ASCII format and review the contents. You can do this by setting binary=False when calling the save word2vec format() function.\n",
        "\n",
        "```python\n",
        "model.wv.save_word2vec_format('model.txt', binary=False)\n",
        "```\n",
        "\n",
        "The saved model can then be loaded again by calling the Word2Vec.load() function.\n",
        "\n",
        "```python\n",
        "model = Word2Vec.load('model.bin')\n",
        "```\n",
        "\n",
        "We can tie all of this together with a worked example. Rather than loading a large text document or corpus from file, we will work with a small, in-memory list of pre-tokenized sentences. \n",
        "\n",
        "The model is trained and the minimum count for words is set to 1 so that no words are ignored. After the model is learned, we summarize, print the vocabulary, then print a single vector for the word \"sentence\". \n",
        "\n",
        "Finally, the model is saved to a file in binary format, loaded,\n",
        "and then summarized.\n",
        "\n"
      ]
    },
    {
      "cell_type": "code",
      "metadata": {
        "id": "QaJbZO603i7I",
        "colab_type": "code",
        "colab": {}
      },
      "source": [
        "from gensim.models import Word2Vec"
      ],
      "execution_count": 0,
      "outputs": []
    },
    {
      "cell_type": "code",
      "metadata": {
        "id": "XD-RTt4O3v5A",
        "colab_type": "code",
        "colab": {
          "base_uri": "https://localhost:8080/",
          "height": 588
        },
        "outputId": "9d3f973d-1e20-43d8-9f85-e7dea140fd43"
      },
      "source": [
        "# define training data\n",
        "sentences = [\n",
        "  ['this', 'is', 'the', 'first', 'sentence', 'for', 'word2vec'],\n",
        "  ['this', 'is', 'the', 'second', 'sentence'],\n",
        "  ['yet', 'another', 'sentence'],\n",
        "  ['one', 'more', 'sentence'],\n",
        "  ['and', 'the', 'final', 'sentence']         \n",
        "]\n",
        "\n",
        "# train model\n",
        "model = Word2Vec(sentences, min_count=1)\n",
        "\n",
        "# summarize the loaded model\n",
        "print(model)\n",
        "\n",
        "# summarize vocabulary\n",
        "words = list(model.wv.vocab)\n",
        "print(words)\n",
        "\n",
        "# access vector for one word\n",
        "print(model['sentence'])\n",
        "\n",
        "# save model\n",
        "model.save('model.bin')\n",
        "\n",
        "# load model\n",
        "new_model = Word2Vec.load('model.bin')\n",
        "print(new_model)"
      ],
      "execution_count": 2,
      "outputs": [
        {
          "output_type": "stream",
          "text": [
            "Word2Vec(vocab=14, size=100, alpha=0.025)\n",
            "['this', 'is', 'the', 'first', 'sentence', 'for', 'word2vec', 'second', 'yet', 'another', 'one', 'more', 'and', 'final']\n",
            "[-2.5527617e-03 -2.4090428e-03 -2.6642578e-03 -4.2772451e-03\n",
            "  3.5824208e-03  2.7083138e-03  3.0410127e-04 -1.8435670e-03\n",
            " -2.1708049e-03 -6.9017644e-04 -2.5778562e-03  3.5773404e-03\n",
            "  2.3550398e-03 -1.3412331e-03 -2.3548866e-03 -4.1006762e-03\n",
            " -3.5198894e-03  1.3351815e-03 -4.1320659e-03 -1.6311593e-03\n",
            " -3.5127799e-03 -8.3889306e-04  1.2147062e-03  6.5140001e-04\n",
            " -2.3203322e-03 -2.2121693e-04 -2.8515861e-03 -3.9685895e-03\n",
            "  3.7177545e-03 -4.8733721e-03 -3.2821156e-03 -4.1479613e-03\n",
            " -4.9392227e-03  1.4273257e-03  1.9067340e-03  2.2379463e-03\n",
            "  2.3476388e-03  1.1623964e-03 -3.9065577e-05 -1.3478211e-03\n",
            "  3.9785937e-03 -4.0813209e-03 -2.7081587e-03  1.0029969e-03\n",
            " -2.5956549e-03 -3.2614968e-03 -3.7464250e-03  7.7152805e-04\n",
            "  3.6150618e-03 -8.0331301e-05  9.4698288e-04 -4.4294670e-03\n",
            "  5.5344781e-04 -1.9595972e-03  2.2155386e-03  3.8905947e-03\n",
            " -2.5460387e-03  4.2259949e-03 -3.6518270e-04 -4.4923564e-03\n",
            "  2.1443784e-03  3.4386819e-04 -3.7030599e-03 -6.8873115e-04\n",
            " -2.7644236e-03  4.6244542e-05 -8.9320127e-04  2.6727999e-03\n",
            "  4.7372365e-03  8.6675253e-04  7.7809161e-04 -2.1768375e-03\n",
            " -6.0844433e-04  1.4019001e-03 -3.9941375e-03  2.9399542e-03\n",
            "  5.3750823e-04 -2.0284632e-03  9.9053525e-04  1.4607236e-03\n",
            " -3.2130945e-03 -5.0292299e-05 -1.1792890e-04  2.2804809e-03\n",
            " -1.4261835e-03 -2.7243374e-03 -4.5089563e-03 -2.8849929e-03\n",
            "  2.4869330e-03 -6.6857209e-04  1.5986478e-03  2.9442306e-03\n",
            " -3.0823112e-03  2.0355547e-03 -2.7708898e-03  1.2093023e-03\n",
            "  1.8901685e-03  4.8500318e-03 -3.8075368e-03  2.7921728e-03]\n",
            "Word2Vec(vocab=14, size=100, alpha=0.025)\n"
          ],
          "name": "stdout"
        },
        {
          "output_type": "stream",
          "text": [
            "/usr/local/lib/python3.6/dist-packages/ipykernel_launcher.py:20: DeprecationWarning: Call to deprecated `__getitem__` (Method will be removed in 4.0.0, use self.wv.__getitem__() instead).\n",
            "/usr/local/lib/python3.6/dist-packages/smart_open/smart_open_lib.py:402: UserWarning: This function is deprecated, use smart_open.open instead. See the migration notes for details: https://github.com/RaRe-Technologies/smart_open/blob/master/README.rst#migrating-to-the-new-open-function\n",
            "  'See the migration notes for details: %s' % _MIGRATION_NOTES_URL\n"
          ],
          "name": "stderr"
        }
      ]
    },
    {
      "cell_type": "markdown",
      "metadata": {
        "id": "Q1EkANYE5GH1",
        "colab_type": "text"
      },
      "source": [
        "You can see that with a little work to prepare your text document, you can create your own word embedding very easily with Gensim."
      ]
    },
    {
      "cell_type": "markdown",
      "metadata": {
        "id": "wSHy8vrc5H6o",
        "colab_type": "text"
      },
      "source": [
        "## Visualize Word Embedding"
      ]
    },
    {
      "cell_type": "markdown",
      "metadata": {
        "id": "agxmqa-n5LUm",
        "colab_type": "text"
      },
      "source": [
        ""
      ]
    },
    {
      "cell_type": "code",
      "metadata": {
        "id": "wRJefoDP4tCs",
        "colab_type": "code",
        "colab": {}
      },
      "source": [
        ""
      ],
      "execution_count": 0,
      "outputs": []
    }
  ]
}