{
  "nbformat": 4,
  "nbformat_minor": 0,
  "metadata": {
    "colab": {
      "name": "2-training-and-loading-word-embeddings-in-keras.ipynb",
      "provenance": [],
      "toc_visible": true,
      "authorship_tag": "ABX9TyMknzqXkZdbTNvHTfqzalgM",
      "include_colab_link": true
    },
    "kernelspec": {
      "name": "python3",
      "display_name": "Python 3"
    }
  },
  "cells": [
    {
      "cell_type": "markdown",
      "metadata": {
        "id": "view-in-github",
        "colab_type": "text"
      },
      "source": [
        "<a href=\"https://colab.research.google.com/github/rahiakela/deep-learning-for-nlp-by-jason-brownlee/blob/part-3-word-embeddings/2_training_and_loading_word_embeddings_in_keras.ipynb\" target=\"_parent\"><img src=\"https://colab.research.google.com/assets/colab-badge.svg\" alt=\"Open In Colab\"/></a>"
      ]
    },
    {
      "cell_type": "markdown",
      "metadata": {
        "id": "yPs9mT0jPnzS",
        "colab_type": "text"
      },
      "source": [
        "# Training and Loading Word Embeddings in Keras"
      ]
    },
    {
      "cell_type": "markdown",
      "metadata": {
        "id": "6TG71b49P25r",
        "colab_type": "text"
      },
      "source": [
        "Word embeddings provide a dense representation of words and their relative meanings. They are an improvement over sparse representations used in simpler bag of word model representations.\n",
        "\n",
        "Word embeddings can be learned from text data and reused among projects. They can also be learned as part of fitting a neural network on text data."
      ]
    },
    {
      "cell_type": "markdown",
      "metadata": {
        "id": "4ICDr_1SQF3x",
        "colab_type": "text"
      },
      "source": [
        "## Setup"
      ]
    },
    {
      "cell_type": "code",
      "metadata": {
        "id": "8zvC4e_MQIHE",
        "colab_type": "code",
        "colab": {}
      },
      "source": [
        "from __future__ import absolute_import, division, print_function, unicode_literals\n",
        "\n",
        "try:\n",
        "  # %tensorflow_version only exists in Colab.\n",
        "  %tensorflow_version 2.x\n",
        "except Exception:\n",
        "  pass\n",
        "import tensorflow as tf\n",
        "from tensorflow import keras\n",
        "import numpy as np\n",
        "import pandas as pd\n",
        "\n",
        "import matplotlib.pyplot as plt\n",
        "\n",
        "from tensorflow.keras import backend as keras_backend\n",
        "from tensorflow.keras.models import Sequential\n",
        "from tensorflow.keras.layers import Dense, Embedding, Flatten\n",
        "\n",
        "from tensorflow.keras.preprocessing.text import one_hot\n",
        "from tensorflow.keras.preprocessing.sequence import pad_sequences"
      ],
      "execution_count": 0,
      "outputs": []
    },
    {
      "cell_type": "markdown",
      "metadata": {
        "id": "5wwnLlboQIsj",
        "colab_type": "text"
      },
      "source": [
        "## Word Embedding"
      ]
    },
    {
      "cell_type": "markdown",
      "metadata": {
        "id": "qmRzYbvwQJon",
        "colab_type": "text"
      },
      "source": [
        "A word embedding is a class of approaches for representing words and documents using a dense vector representation. It is an improvement over more the traditional bag-of-word model encoding schemes where large sparse vectors were used to represent each word or to score each word within a vector to represent an entire vocabulary. \n",
        "\n",
        "These representations were sparse because the vocabularies were vast and a given word or document would be represented by a large vector comprised mostly of zero values.\n",
        "\n",
        "Instead, in an embedding, words are represented by dense vectors where a vector represents the projection of the word into a continuous vector space. The position of a word within the vector space is learned from text and is based on the words that surround the word when it is used. The position of a word in the learned vector space is referred to as its embedding. \n",
        "\n",
        "Two popular examples of methods of learning word embeddings from text include:\n",
        "* **Word2Vec**\n",
        "* **GloVe**\n",
        "\n",
        "In addition to these carefully designed methods, a word embedding can be learned as part of a deep learning model. This can be a slower approach, but tailors the model to a specific\n",
        "training dataset.\n"
      ]
    },
    {
      "cell_type": "markdown",
      "metadata": {
        "id": "uYcTe5gGbLCL",
        "colab_type": "text"
      },
      "source": [
        "## Train word-embedding using Keras"
      ]
    },
    {
      "cell_type": "markdown",
      "metadata": {
        "id": "v4501Yq8SsVZ",
        "colab_type": "text"
      },
      "source": [
        "### Keras Embedding Layer"
      ]
    },
    {
      "cell_type": "markdown",
      "metadata": {
        "id": "ZBqfVjAQStFe",
        "colab_type": "text"
      },
      "source": [
        "Keras offers an Embedding layer that can be used for neural networks on text data. It requires that the input data be integer encoded, so that each word is represented by a unique integer.\n",
        "\n",
        "This data preparation step can be performed using the Tokenizer API also provided with Keras.\n",
        "\n",
        "The Embedding layer is initialized with random weights and will learn an embedding for all of the words in the training dataset. It is a  exible layer that can be used in a variety of ways, such as:\n",
        "\n",
        "* It can be used alone to learn a word embedding that can be saved and used in another model later.\n",
        "* It can be used as part of a deep learning model where the embedding is learned along with the model itself.\n",
        "* It can be used to load a pre-trained word embedding model, a type of transfer learning.\n",
        "\n",
        "The Embedding layer is defined as the first hidden layer of a network. It must specify 3 arguments:\n",
        "* **input_dim**: This is the size of the vocabulary in the text data. For example, if your data is integer encoded to values between 0-10, then the size of the vocabulary would be 11 words.\n",
        "* **output_dim**: This is the size of the vector space in which words will be embedded. It defines the size of the output vectors from this layer for each word. For example, it could\n",
        "be 32 or 100 or even larger. Test different values for your problem.\n",
        "* **input_length**: This is the length of input sequences, as you would define for any input layer of a Keras model. For example, if all of your input documents are comprised of 1000\n",
        "words, this would be 1000.\n",
        "\n",
        "For example, below we define an Embedding layer with a vocabulary of 200 (e.g. integer encoded words from 0 to 199, inclusive), a vector space of 32 dimensions in which words will be embedded, and input documents that have 50 words each.\n",
        "\n",
        "```python\n",
        "e = Embedding(200, 32, input_length=50)\n",
        "```\n",
        "\n",
        "The Embedding layer has weights that are learned. If you save your model to file, this will include weights for the Embedding layer. The output of the Embedding layer is a 2D vector with\n",
        "one embedding for each word in the input sequence of words (input document). If you wish to connect a Dense layer directly to an Embedding layer, you must first flatten the 2D output\n",
        "matrix to a 1D vector using the Flatten layer."
      ]
    },
    {
      "cell_type": "markdown",
      "metadata": {
        "id": "IPJu9JARU1kv",
        "colab_type": "text"
      },
      "source": [
        "### Example of Learning an Embedding"
      ]
    },
    {
      "cell_type": "markdown",
      "metadata": {
        "id": "4Pr2trStU2j3",
        "colab_type": "text"
      },
      "source": [
        "We will look at how we can learn a word embedding while fitting a neural network on a text classification problem. We will define a small problem where we have 10 text documents, each with a comment about a piece of work a student submitted. Each text document is classiffied as positive 1 or negative 0. This is a simple sentiment analysis problem.\n",
        "\n",
        "```python\n",
        "# define documents\n",
        "docs = [\n",
        "  'Well done!',\n",
        "  'Good work',\n",
        "  'Great effort',\n",
        "  'nice work',\n",
        "  'Excellent!',\n",
        "  'Weak',\n",
        "  'Poor effort!',\n",
        "  'not good',\n",
        "  'poor work',\n",
        "  'Could have done better.'\n",
        "]\n",
        "# define class labels\n",
        "labels = [1,1,1,1,1,0,0,0,0,0]\n",
        "```\n",
        "\n",
        "Next, we can integer encode each document. This means that as input the Embedding layer will have sequences of integers. We could experiment with other more sophisticated bag of word\n",
        "model encoding like counts or TF-IDF. Keras provides the one hot() function that creates a hash of each word as an efficient integer encoding. We will estimate the vocabulary size of 50,\n",
        "which is much larger than needed to reduce the probability of collisions from the hash function.\n",
        "\n",
        "```python\n",
        "# integer encode the documents\n",
        "vocab_size = 50\n",
        "encoded_docs = [one_hot(d, vocab_size) for d in docs]\n",
        "print(encoded_docs)\n",
        "```\n",
        "\n",
        "The sequences have different lengths and Keras prefers inputs to be vectorized and all inputs to have the same length. We will pad all input sequences to have the length of 4. Again, we can\n",
        "do this with a built in Keras function, in this case the pad sequences() function.\n",
        "\n",
        "```python\n",
        "# pad documents to a max length of 4 words\n",
        "max_length = 4\n",
        "padded_docs = pad_sequences(encoded_docs, maxlen=max_length, padding='post')\n",
        "print(padded_docs)\n",
        "```\n",
        "\n",
        "We are now ready to define our Embedding layer as part of our neural network model. The Embedding layer has a vocabulary of 50 and an input length of 4. We will choose a small embedding space of 8 dimensions. The model is a simple binary classification model.\n",
        "\n",
        "Importantly, the output from the Embedding layer will be 4 vectors of 8 dimensions each, one for each word. We flatten this to a one 32-element vector to pass on to the Dense output layer.\n",
        "\n",
        "```python\n",
        "# define the model\n",
        "model = Sequential()\n",
        "model.add(Embedding(vocab_size, 8, input_length=max_length))\n",
        "model.add(Flatten())\n",
        "model.add(Dense(1, activation='sigmoid'))\n",
        "# compile the model\n",
        "model.compile(optimizer='adam', loss='binary_crossentropy', metrics=['acc'])\n",
        "# summarize the model\n",
        "model.summary()\n",
        "```\n",
        "\n",
        "Finally, we can fit and evaluate the classi\fcation model.\n",
        "\n",
        "```python\n",
        "# fit the model\n",
        "model.fit(padded_docs, labels, epochs=50, verbose=0)\n",
        "# evaluate the model\n",
        "loss, accuracy = model.evaluate(padded_docs, labels, verbose=0)\n",
        "print('Accuracy: %f' % (accuracy*100))\n",
        "```\n",
        "\n",
        "Let's put it all together.\n"
      ]
    },
    {
      "cell_type": "code",
      "metadata": {
        "id": "pxfLACHXW6QM",
        "colab_type": "code",
        "colab": {
          "base_uri": "https://localhost:8080/",
          "height": 550
        },
        "outputId": "401b3a59-1a0e-462c-cef0-9b94f4ad5a12"
      },
      "source": [
        "# define documents\n",
        "docs = [\n",
        "  'Well done!',\n",
        "  'Good work',   \n",
        "  'Great effort',\n",
        "  'nice work',\n",
        "  'Excellent!',\n",
        "  'Weak',\n",
        "  'Poor effort!',\n",
        "  'not good',\n",
        "  'poor work',\n",
        "  'Could have done better.'   \n",
        "]\n",
        "\n",
        "# define class labels\n",
        "labels = np.array([1, 1, 1, 1, 1, 0, 0, 0, 0, 0])\n",
        "\n",
        "# integer encode the documents\n",
        "vocab_size = 50\n",
        "encoded_docs = [one_hot(doc, vocab_size) for doc in docs]\n",
        "print(f'Encoded docs: \\n{encoded_docs}')\n",
        "\n",
        "# pad documents to a max length of 4 words\n",
        "max_length = 4\n",
        "padded_docs = pad_sequences(encoded_docs, maxlen=max_length, padding='post')\n",
        "print(f'Padded docs: \\n{padded_docs}')\n",
        "\n",
        "# define the model\n",
        "model = Sequential()\n",
        "model.add(Embedding(vocab_size, 8, input_length=max_length))\n",
        "model.add(Flatten())\n",
        "model.add(Dense(1, activation='sigmoid'))\n",
        "\n",
        "# compile the model\n",
        "model.compile(loss='binary_crossentropy', optimizer='adam', metrics=['accuracy'])\n",
        "\n",
        "# summarize the model\n",
        "print('Model Summary:\\n')\n",
        "model.summary()\n",
        "\n",
        "# fit the model\n",
        "model.fit(padded_docs, labels, epochs=50, verbose=0)\n",
        "\n",
        "# evaluate the model\n",
        "loss, accuracy = model.evaluate(padded_docs, labels, verbose=0)\n",
        "print(f'Accuracy: {str(accuracy * 100)}')"
      ],
      "execution_count": 6,
      "outputs": [
        {
          "output_type": "stream",
          "text": [
            "Encoded docs: \n",
            "[[6, 46], [27, 27], [38, 14], [21, 27], [17], [38], [17, 14], [40, 27], [17, 27], [12, 32, 46, 3]]\n",
            "Padded docs: \n",
            "[[ 6 46  0  0]\n",
            " [27 27  0  0]\n",
            " [38 14  0  0]\n",
            " [21 27  0  0]\n",
            " [17  0  0  0]\n",
            " [38  0  0  0]\n",
            " [17 14  0  0]\n",
            " [40 27  0  0]\n",
            " [17 27  0  0]\n",
            " [12 32 46  3]]\n",
            "Model Summary:\n",
            "\n",
            "Model: \"sequential_2\"\n",
            "_________________________________________________________________\n",
            "Layer (type)                 Output Shape              Param #   \n",
            "=================================================================\n",
            "embedding_2 (Embedding)      (None, 4, 8)              400       \n",
            "_________________________________________________________________\n",
            "flatten_2 (Flatten)          (None, 32)                0         \n",
            "_________________________________________________________________\n",
            "dense_2 (Dense)              (None, 1)                 33        \n",
            "=================================================================\n",
            "Total params: 433\n",
            "Trainable params: 433\n",
            "Non-trainable params: 0\n",
            "_________________________________________________________________\n",
            "Accuracy: 69.9999988079071\n"
          ],
          "name": "stdout"
        }
      ]
    },
    {
      "cell_type": "markdown",
      "metadata": {
        "id": "Z6sT3ejca8TK",
        "colab_type": "text"
      },
      "source": [
        "You could save the learned weights from the Embedding layer to file for later use in other models. You could also use this model generally to classify other documents that have the same kind vocabulary seen in the test dataset."
      ]
    },
    {
      "cell_type": "markdown",
      "metadata": {
        "id": "oG-N8mtqbDqL",
        "colab_type": "text"
      },
      "source": [
        "## Using Pre-Trained GloVe Embedding"
      ]
    },
    {
      "cell_type": "markdown",
      "metadata": {
        "id": "OBFsRIlxbEsr",
        "colab_type": "text"
      },
      "source": [
        ""
      ]
    },
    {
      "cell_type": "code",
      "metadata": {
        "id": "xKnTReajZlPF",
        "colab_type": "code",
        "colab": {}
      },
      "source": [
        ""
      ],
      "execution_count": 0,
      "outputs": []
    }
  ]
}