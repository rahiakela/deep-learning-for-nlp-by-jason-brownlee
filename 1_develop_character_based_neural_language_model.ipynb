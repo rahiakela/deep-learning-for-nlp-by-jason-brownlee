{
  "nbformat": 4,
  "nbformat_minor": 0,
  "metadata": {
    "colab": {
      "name": "1_develop_character_based_neural_language_model.ipynb",
      "provenance": [],
      "toc_visible": true,
      "include_colab_link": true
    },
    "kernelspec": {
      "name": "python3",
      "display_name": "Python 3"
    },
    "accelerator": "GPU"
  },
  "cells": [
    {
      "cell_type": "markdown",
      "metadata": {
        "id": "view-in-github",
        "colab_type": "text"
      },
      "source": [
        "<a href=\"https://colab.research.google.com/github/rahiakela/deep-learning-for-nlp-by-jason-brownlee/blob/part-5-language-modeling/1_develop_character_based_neural_language_model.ipynb\" target=\"_parent\"><img src=\"https://colab.research.google.com/assets/colab-badge.svg\" alt=\"Open In Colab\"/></a>"
      ]
    },
    {
      "cell_type": "markdown",
      "metadata": {
        "id": "qfh6KONLasT2",
        "colab_type": "text"
      },
      "source": [
        "# Develop a Character-Based Neural Language Model"
      ]
    },
    {
      "cell_type": "markdown",
      "metadata": {
        "id": "-6-XEuaxbyJe",
        "colab_type": "text"
      },
      "source": [
        "A language model predicts the next word in the sequence based on the specific words that have come before it in the sequence. It is also possible to develop language models at the character level using neural networks. The benefit of character-based language models is their small\n",
        "vocabulary and  exibility in handling any words, punctuation, and other document structure. This comes at the cost of requiring larger models that are slower to train. \n",
        "\n",
        "Nevertheless, in the field of neural language models, character-based models offer a lot of promise for a general, flexible and powerful approach to language modeling.\n",
        "\n",
        "We will cover the followings topics:-\n",
        "\n",
        "* Prepare text for character-based language modeling.\n",
        "* Develop a character-based language model using LSTMs.\n",
        "* Use a trained character-based language model to generate text."
      ]
    },
    {
      "cell_type": "markdown",
      "metadata": {
        "id": "zs6DjCOqz9aj",
        "colab_type": "text"
      },
      "source": [
        "## Setup"
      ]
    },
    {
      "cell_type": "code",
      "metadata": {
        "id": "or6TM-Sez-p9",
        "colab_type": "code",
        "colab": {}
      },
      "source": [
        "from __future__ import absolute_import, division, print_function, unicode_literals\n",
        "\n",
        "try:\n",
        "  # %tensorflow_version only exists in Colab.\n",
        "  %tensorflow_version 2.x\n",
        "except Exception:\n",
        "  pass\n",
        "import tensorflow as tf\n",
        "from tensorflow import keras\n",
        "import numpy as np\n",
        "import pandas as pd\n",
        "from pickle import dump\n",
        "\n",
        "import matplotlib.pyplot as plt\n",
        "\n",
        "from tensorflow.keras import backend as keras_backend\n",
        "from tensorflow.keras.models import Sequential\n",
        "from tensorflow.keras.layers import Dense, LSTM\n",
        "\n",
        "from tensorflow.keras.preprocessing.text import Tokenizer\n",
        "from tensorflow.keras.preprocessing.sequence import pad_sequences\n",
        "from tensorflow.keras.utils import plot_model, to_categorical\n",
        "\n",
        "%matplotlib inline"
      ],
      "execution_count": 0,
      "outputs": []
    },
    {
      "cell_type": "markdown",
      "metadata": {
        "id": "NohtiZJzjlJQ",
        "colab_type": "text"
      },
      "source": [
        "## Sing a Song of Sixpence Dataset"
      ]
    },
    {
      "cell_type": "markdown",
      "metadata": {
        "id": "BI_4nRavjl0K",
        "colab_type": "text"
      },
      "source": [
        "The nursery rhyme Sing a Song of Sixpence is well known in the west. The first verse is common, but there is also a 4 verse version that we will use to develop our character-based language model. It is short, so fitting the model will be fast, but not so short that we won't see anything\n",
        "interesting."
      ]
    },
    {
      "cell_type": "markdown",
      "metadata": {
        "id": "E2FS8kSjj6KZ",
        "colab_type": "text"
      },
      "source": [
        "## Data Preparation"
      ]
    },
    {
      "cell_type": "markdown",
      "metadata": {
        "id": "tGTKCRWFj6_x",
        "colab_type": "text"
      },
      "source": [
        "The first step is to prepare the text data. We will start by defining the type of language model.:\n",
        "\n",
        "1. Language Model Design.\n",
        "2. Load Text.\n",
        "3. Clean Text.\n",
        "4. Create Sequences\n",
        "5. Save Sequences\n",
        "\n",
        "\n"
      ]
    },
    {
      "cell_type": "markdown",
      "metadata": {
        "id": "KjJS3tQakSOe",
        "colab_type": "text"
      },
      "source": [
        "### Language Model Design"
      ]
    },
    {
      "cell_type": "markdown",
      "metadata": {
        "id": "ZTTxAfwrkT34",
        "colab_type": "text"
      },
      "source": [
        "A language model must be trained on the text, and in the case of a character-based language model, the input and output sequences must be characters. The number of characters used as input will also define the number of characters that will need to be provided to the model in order to elicit the first predicted character. After the first character has been generated, it can be appended to the input sequence and used as input for the model to generate the next character.\n",
        "\n",
        "Longer sequences offer more context for the model to learn what character to output next but take longer to train and impose more burden on seeding the model when generating text.\n",
        "\n",
        "We will use an arbitrary length of 10 characters for this model. There is not a lot of text, and 10 characters is a few words. We can now transform the raw text into a form that our model can learn; specifically, input and output sequences of characters."
      ]
    },
    {
      "cell_type": "markdown",
      "metadata": {
        "id": "EAmwRJvwlFy1",
        "colab_type": "text"
      },
      "source": [
        "Tying all of this together, the complete code listing is provided below."
      ]
    },
    {
      "cell_type": "code",
      "metadata": {
        "id": "SUxIuMFB7Hxg",
        "colab_type": "code",
        "outputId": "5a438499-bd40-45c8-80f4-57feae5cd286",
        "colab": {
          "base_uri": "https://localhost:8080/",
          "height": 383
        }
      },
      "source": [
        "# load doc into memory\n",
        "def load_doc(filename):\n",
        "  # open the file as read only\n",
        "  file = open(filename, 'r')\n",
        "  # read all text\n",
        "  text = file.read()\n",
        "  # close the file\n",
        "  file.close()\n",
        "\n",
        "  return text\n",
        "\n",
        "# save tokens to file, one dialog per line\n",
        "def save_doc(lines, filename):\n",
        "  data = '\\n'.join(lines)\n",
        "  file = open(filename, 'w')\n",
        "  file.write(data)\n",
        "  file.close()\n",
        "\n",
        "# load text\n",
        "raw_text = load_doc('rhyme.txt')\n",
        "print(raw_text)\n",
        "\n",
        "# clean text\n",
        "tokens = raw_text.split()\n",
        "raw_text = ' '.join(tokens)\n",
        "\n",
        "# organize into sequences of characters\n",
        "length = 10\n",
        "sequences = list()\n",
        "for i in range(length, len(raw_text)):\n",
        "  seq = raw_text[i - length: i + 1]   # select sequence of tokens\n",
        "  sequences.append(seq)\n",
        "print(f'\\nTotal Sequences: {str(len(sequences))}')\n",
        "\n",
        "# save sequences to file\n",
        "print(sequences[:10])\n",
        "out_filename = 'char_sequences.txt'\n",
        "save_doc(sequences, out_filename)"
      ],
      "execution_count": 2,
      "outputs": [
        {
          "output_type": "stream",
          "text": [
            "Sing a song of sixpence,\n",
            "A pocket full of rye.\n",
            "Four and twenty blackbirds,\n",
            "Baked in a pie.\n",
            "\n",
            "When the pie was opened\n",
            "The birds began to sing;\n",
            "Wasn't that a dainty dish,\n",
            "To set before the king.\n",
            "\n",
            "The king was in his counting house,\n",
            "Counting out his money;\n",
            "The queen was in the parlour,\n",
            "Eating bread and honey.\n",
            "\n",
            "The maid was in the garden,\n",
            "Hanging out the clothes,\n",
            "When down came a blackbird\n",
            "And pecked off her nose.\n",
            "\n",
            "Total Sequences: 399\n",
            "['Sing a song', 'ing a song ', 'ng a song o', 'g a song of', ' a song of ', 'a song of s', ' song of si', 'song of six', 'ong of sixp', 'ng of sixpe']\n"
          ],
          "name": "stdout"
        }
      ]
    },
    {
      "cell_type": "markdown",
      "metadata": {
        "id": "LkztLwOlCqTG",
        "colab_type": "text"
      },
      "source": [
        "## Train Language Model"
      ]
    },
    {
      "cell_type": "markdown",
      "metadata": {
        "id": "6Vi67Za2gdBU",
        "colab_type": "text"
      },
      "source": [
        "We will develop a neural language model for the prepared sequence data. The\n",
        "model will read encoded characters and predict the next character in the sequence. \n",
        "\n",
        "A Long Short-Term Memory recurrent neural network hidden layer will be used to learn the context from the input sequence in order to make the predictions.\n",
        "\n",
        "We will do the following steps:-\n",
        "1. Load Data \n",
        "2. Encode Sequences\n",
        "3. Split Inputs and Output\n",
        "4. Fit Model\n",
        "5. Save Model"
      ]
    },
    {
      "cell_type": "markdown",
      "metadata": {
        "id": "9uxLKYNshtNq",
        "colab_type": "text"
      },
      "source": [
        "### Load Data"
      ]
    },
    {
      "cell_type": "markdown",
      "metadata": {
        "id": "LIo9-p8vhxB7",
        "colab_type": "text"
      },
      "source": [
        "The first step is to load the prepared character sequence data from char sequences.txt.\n",
        "\n",
        "```python\n",
        "# load\n",
        "in_filename = 'char_sequences.txt'\n",
        "raw_text = load_doc(in_filename)\n",
        "lines = raw_text.split('\\n')\n",
        "```"
      ]
    },
    {
      "cell_type": "markdown",
      "metadata": {
        "id": "2ytOnGM_h2AB",
        "colab_type": "text"
      },
      "source": [
        "### Encode Sequences"
      ]
    },
    {
      "cell_type": "markdown",
      "metadata": {
        "id": "D-Emc33PiKAZ",
        "colab_type": "text"
      },
      "source": [
        "The sequences of characters must be encoded as integers. This means that each unique character will be assigned a specific integer value and each sequence of characters will be encoded as a sequence of integers. We can create the mapping given a sorted set of unique characters in the raw input data. The mapping is a dictionary of character values to integer values.\n",
        "\n",
        "```python\n",
        "chars = sorted(list(set(raw_text)))\n",
        "mapping = dict((c, i) for i, c in enumerate(chars))\n",
        "```\n",
        "\n",
        "Next, we can process each sequence of characters one at a time and use the dictionary mapping to look up the integer value for each character.\n",
        "\n",
        "```python\n",
        "sequences = list()\n",
        "for line in lines:\n",
        "  # integer encode line\n",
        "  encoded_seq = [mapping[char] for char in line]\n",
        "  sequences.append(encoded_seq)\n",
        "```\n",
        "\n",
        "The result is a list of integer lists. We need to know the size of the vocabulary later. We can retrieve this as the size of the dictionary mapping.\n",
        "\n",
        "```python\n",
        "# vocabulary size\n",
        "vocab_size = len(mapping)\n",
        "print('Vocabulary Size: %d' % vocab_size)\n",
        "```\n"
      ]
    },
    {
      "cell_type": "markdown",
      "metadata": {
        "id": "J5Lix7FJjv1g",
        "colab_type": "text"
      },
      "source": [
        "### Split Inputs and Output"
      ]
    },
    {
      "cell_type": "markdown",
      "metadata": {
        "id": "cmGm44jpoTH7",
        "colab_type": "text"
      },
      "source": [
        "Now that the sequences have been integer encoded, we can separate the columns into input and output sequences of characters. We can do this using a simple array slice.\n",
        "\n",
        "```python\n",
        "sequences = array(sequences)\n",
        "X, y = sequences[:,:-1], sequences[:,-1]\n",
        "```\n",
        "\n",
        "Next, we need to one hot encode each character. That is, each character becomes a vector as long as the vocabulary (38 elements) with a 1 marked for the specific character. This provides a more precise input representation for the network. It also provides a clear objective for the\n",
        "network to predict, where a probability distribution over characters can be output by the model and compared to the ideal case of all 0 values with a 1 for the actual next character. \n",
        "\n",
        "We can use the to categorical() function in the Keras API to one hot encode the input and output sequences.\n",
        "\n",
        "```python\n",
        "sequences = [to_categorical(x, num_classes=vocab_size) for x in X]\n",
        "X = array(sequences)\n",
        "y = to_categorical(y, num_classes=vocab_size)\n",
        "```"
      ]
    },
    {
      "cell_type": "markdown",
      "metadata": {
        "id": "IlNCCBBdj8xP",
        "colab_type": "text"
      },
      "source": [
        "### Fit Model"
      ]
    },
    {
      "cell_type": "markdown",
      "metadata": {
        "id": "cJK7EcAhqois",
        "colab_type": "text"
      },
      "source": [
        "The model is defined with an input layer that takes sequences that have 10 time steps and 38 features for the one hot encoded input sequences. Rather than specify these numbers, we use the second and third dimensions on the X input data. This is so that if we change the length of the sequences or size of the vocabulary, we do not need to change the model definition. \n",
        "\n",
        "The model has a single LSTM hidden layer with 75 memory cells, chosen with a little trial and error. \n",
        "\n",
        "The model has a fully connected output layer that outputs one vector with a probability distribution across all characters in the vocabulary. \n",
        "\n",
        "A softmax activation function is used on the output layer to ensure the output has the properties of a probability distribution.\n",
        "\n",
        "```python\n",
        "# define the model\n",
        "def define_model(X):\n",
        "  model = Sequential()\n",
        "  model.add(LSTM(75, input_shape=(X.shape[1], X.shape[2])))\n",
        "  model.add(Dense(vocab_size, activation='softmax'))\n",
        "  # compile model\n",
        "  model.compile(loss='categorical_crossentropy', optimizer='adam', metrics=['accuracy'])\n",
        "  # summarize defined model\n",
        "  model.summary()\n",
        "  plot_model(model, to_file='model.png', show_shapes=True)\n",
        "  return model\n",
        "```\n",
        "\n",
        "The model is learning a multiclass classification problem, therefore we use the categorical log loss intended for this type of problem. The efficient Adam implementation of gradient descent is used to optimize the model and accuracy is reported at the end of each batch update. The model is fit for 100 training epochs, again found with a little trial and error."
      ]
    },
    {
      "cell_type": "markdown",
      "metadata": {
        "id": "FJaxjnwJk_eN",
        "colab_type": "text"
      },
      "source": [
        "### Save Model"
      ]
    },
    {
      "cell_type": "markdown",
      "metadata": {
        "id": "pBvwy7RUlAVE",
        "colab_type": "text"
      },
      "source": [
        "After the model is fit, we save it to file for later use. The Keras model API provides the save() function that we can use to save the model to a single file, including weights and topology information.\n",
        "\n",
        "```python\n",
        "# save the model to file\n",
        "model.save('model.h5')\n",
        "```\n",
        "\n",
        "We also save the mapping from characters to integers that we will need to encode any input when using the model and decode any output from the model.\n",
        "\n",
        "```python\n",
        "# save the mapping\n",
        "dump(mapping, open('mapping.pkl', 'wb'))\n",
        "```"
      ]
    },
    {
      "cell_type": "markdown",
      "metadata": {
        "id": "Q5POW5fBlm_S",
        "colab_type": "text"
      },
      "source": [
        "### Complete Example"
      ]
    },
    {
      "cell_type": "markdown",
      "metadata": {
        "id": "8vpHFvCglnyw",
        "colab_type": "text"
      },
      "source": [
        "Tying all of this together, the complete code listing for fitting the character-based neural language model is listed below."
      ]
    },
    {
      "cell_type": "code",
      "metadata": {
        "id": "-uSeaYAt3DNt",
        "colab_type": "code",
        "outputId": "f84a3121-5268-49ea-d472-f926b00f96b3",
        "colab": {
          "base_uri": "https://localhost:8080/",
          "height": 1000
        }
      },
      "source": [
        "from os import listdir\n",
        "from pickle import dump\n",
        "\n",
        "\n",
        "# define the model\n",
        "def define_model(X):\n",
        "  model = Sequential()\n",
        "  model.add(LSTM(75, input_shape=(X.shape[1], X.shape[2])))\n",
        "  model.add(Dense(vocab_size, activation='softmax'))\n",
        "  # compile model\n",
        "  model.compile(loss='categorical_crossentropy', optimizer='adam', metrics=['accuracy'])\n",
        "  # summarize defined model\n",
        "  model.summary()\n",
        "  plot_model(model, to_file='model.png', show_shapes=True)\n",
        "  return model\n",
        "\n",
        "# load\n",
        "in_filename = 'char_sequences.txt'\n",
        "raw_text = load_doc(in_filename)\n",
        "lines = raw_text.split('\\n')\n",
        "\n",
        "# integer encode sequences of characters\n",
        "chars = sorted(list(set(raw_text)))\n",
        "mapping = dict((c, i) for i, c in enumerate(chars))\n",
        "sequences = list()\n",
        "for line in lines:\n",
        "  # integer encode line\n",
        "  encoded_seq = [mapping[char] for char in line]\n",
        "  sequences.append(encoded_seq)\n",
        "\n",
        "# vocabulary size\n",
        "vocab_size = len(mapping)\n",
        "print(f'Vocabulary Size: {str(vocab_size)}')\n",
        "\n",
        "# separate into input and output\n",
        "sequences = np.array(sequences)\n",
        "X, y = sequences[:, :-1], sequences[:, -1]\n",
        "sequences = [to_categorical(x, num_classes=vocab_size) for x in X]\n",
        "X = np.array(sequences)\n",
        "y = to_categorical(y, num_classes=vocab_size)\n",
        "\n",
        "# define model\n",
        "model = define_model(X)\n",
        "\n",
        "# fit model\n",
        "model.fit(X, y, epochs=100, verbose=2)\n",
        "\n",
        "# save the model to file\n",
        "model.save('model.h5')\n",
        "\n",
        "# save the mapping\n",
        "dump(mapping, open('mapping.pkl', 'wb'))"
      ],
      "execution_count": 5,
      "outputs": [
        {
          "output_type": "stream",
          "text": [
            "Vocabulary Size: 38\n",
            "Model: \"sequential_1\"\n",
            "_________________________________________________________________\n",
            "Layer (type)                 Output Shape              Param #   \n",
            "=================================================================\n",
            "lstm_1 (LSTM)                (None, 75)                34200     \n",
            "_________________________________________________________________\n",
            "dense_1 (Dense)              (None, 38)                2888      \n",
            "=================================================================\n",
            "Total params: 37,088\n",
            "Trainable params: 37,088\n",
            "Non-trainable params: 0\n",
            "_________________________________________________________________\n",
            "Epoch 1/100\n",
            "13/13 - 0s - loss: 3.6141 - accuracy: 0.0827\n",
            "Epoch 2/100\n",
            "13/13 - 0s - loss: 3.5121 - accuracy: 0.1930\n",
            "Epoch 3/100\n",
            "13/13 - 0s - loss: 3.1909 - accuracy: 0.1905\n",
            "Epoch 4/100\n",
            "13/13 - 0s - loss: 3.0726 - accuracy: 0.1905\n",
            "Epoch 5/100\n",
            "13/13 - 0s - loss: 3.0231 - accuracy: 0.1905\n",
            "Epoch 6/100\n",
            "13/13 - 0s - loss: 2.9948 - accuracy: 0.1905\n",
            "Epoch 7/100\n",
            "13/13 - 0s - loss: 2.9785 - accuracy: 0.1905\n",
            "Epoch 8/100\n",
            "13/13 - 0s - loss: 2.9526 - accuracy: 0.1905\n",
            "Epoch 9/100\n",
            "13/13 - 0s - loss: 2.9477 - accuracy: 0.1930\n",
            "Epoch 10/100\n",
            "13/13 - 0s - loss: 2.9135 - accuracy: 0.1905\n",
            "Epoch 11/100\n",
            "13/13 - 0s - loss: 2.9108 - accuracy: 0.1905\n",
            "Epoch 12/100\n",
            "13/13 - 0s - loss: 2.8879 - accuracy: 0.1930\n",
            "Epoch 13/100\n",
            "13/13 - 0s - loss: 2.8776 - accuracy: 0.2080\n",
            "Epoch 14/100\n",
            "13/13 - 0s - loss: 2.8560 - accuracy: 0.2105\n",
            "Epoch 15/100\n",
            "13/13 - 0s - loss: 2.8415 - accuracy: 0.2105\n",
            "Epoch 16/100\n",
            "13/13 - 0s - loss: 2.8157 - accuracy: 0.2256\n",
            "Epoch 17/100\n",
            "13/13 - 0s - loss: 2.7509 - accuracy: 0.2306\n",
            "Epoch 18/100\n",
            "13/13 - 0s - loss: 2.7363 - accuracy: 0.2231\n",
            "Epoch 19/100\n",
            "13/13 - 0s - loss: 2.6991 - accuracy: 0.2456\n",
            "Epoch 20/100\n",
            "13/13 - 0s - loss: 2.6372 - accuracy: 0.2757\n",
            "Epoch 21/100\n",
            "13/13 - 0s - loss: 2.6304 - accuracy: 0.2657\n",
            "Epoch 22/100\n",
            "13/13 - 0s - loss: 2.5524 - accuracy: 0.2957\n",
            "Epoch 23/100\n",
            "13/13 - 0s - loss: 2.5393 - accuracy: 0.3033\n",
            "Epoch 24/100\n",
            "13/13 - 0s - loss: 2.4727 - accuracy: 0.3083\n",
            "Epoch 25/100\n",
            "13/13 - 0s - loss: 2.4424 - accuracy: 0.3409\n",
            "Epoch 26/100\n",
            "13/13 - 0s - loss: 2.3863 - accuracy: 0.3283\n",
            "Epoch 27/100\n",
            "13/13 - 0s - loss: 2.3402 - accuracy: 0.3684\n",
            "Epoch 28/100\n",
            "13/13 - 0s - loss: 2.3004 - accuracy: 0.3659\n",
            "Epoch 29/100\n",
            "13/13 - 0s - loss: 2.2526 - accuracy: 0.3709\n",
            "Epoch 30/100\n",
            "13/13 - 0s - loss: 2.2009 - accuracy: 0.3985\n",
            "Epoch 31/100\n",
            "13/13 - 0s - loss: 2.1888 - accuracy: 0.4110\n",
            "Epoch 32/100\n",
            "13/13 - 0s - loss: 2.1878 - accuracy: 0.4010\n",
            "Epoch 33/100\n",
            "13/13 - 0s - loss: 2.1349 - accuracy: 0.3960\n",
            "Epoch 34/100\n",
            "13/13 - 0s - loss: 2.1119 - accuracy: 0.4035\n",
            "Epoch 35/100\n",
            "13/13 - 0s - loss: 2.0385 - accuracy: 0.4085\n",
            "Epoch 36/100\n",
            "13/13 - 0s - loss: 1.9730 - accuracy: 0.4361\n",
            "Epoch 37/100\n",
            "13/13 - 0s - loss: 1.9580 - accuracy: 0.4511\n",
            "Epoch 38/100\n",
            "13/13 - 0s - loss: 1.9067 - accuracy: 0.4561\n",
            "Epoch 39/100\n",
            "13/13 - 0s - loss: 1.8839 - accuracy: 0.4737\n",
            "Epoch 40/100\n",
            "13/13 - 0s - loss: 1.8532 - accuracy: 0.4862\n",
            "Epoch 41/100\n",
            "13/13 - 0s - loss: 1.8042 - accuracy: 0.4887\n",
            "Epoch 42/100\n",
            "13/13 - 0s - loss: 1.7885 - accuracy: 0.5013\n",
            "Epoch 43/100\n",
            "13/13 - 0s - loss: 1.7469 - accuracy: 0.5063\n",
            "Epoch 44/100\n",
            "13/13 - 0s - loss: 1.6794 - accuracy: 0.5313\n",
            "Epoch 45/100\n",
            "13/13 - 0s - loss: 1.6874 - accuracy: 0.5163\n",
            "Epoch 46/100\n",
            "13/13 - 0s - loss: 1.6260 - accuracy: 0.5589\n",
            "Epoch 47/100\n",
            "13/13 - 0s - loss: 1.6078 - accuracy: 0.5664\n",
            "Epoch 48/100\n",
            "13/13 - 0s - loss: 1.5663 - accuracy: 0.5689\n",
            "Epoch 49/100\n",
            "13/13 - 0s - loss: 1.5383 - accuracy: 0.5764\n",
            "Epoch 50/100\n",
            "13/13 - 0s - loss: 1.5007 - accuracy: 0.6065\n",
            "Epoch 51/100\n",
            "13/13 - 0s - loss: 1.4398 - accuracy: 0.6140\n",
            "Epoch 52/100\n",
            "13/13 - 0s - loss: 1.4183 - accuracy: 0.6266\n",
            "Epoch 53/100\n",
            "13/13 - 0s - loss: 1.3769 - accuracy: 0.6366\n",
            "Epoch 54/100\n",
            "13/13 - 0s - loss: 1.3411 - accuracy: 0.6566\n",
            "Epoch 55/100\n",
            "13/13 - 0s - loss: 1.2961 - accuracy: 0.6566\n",
            "Epoch 56/100\n",
            "13/13 - 0s - loss: 1.2879 - accuracy: 0.6767\n",
            "Epoch 57/100\n",
            "13/13 - 0s - loss: 1.2351 - accuracy: 0.7018\n",
            "Epoch 58/100\n",
            "13/13 - 0s - loss: 1.2039 - accuracy: 0.7193\n",
            "Epoch 59/100\n",
            "13/13 - 0s - loss: 1.1638 - accuracy: 0.7118\n",
            "Epoch 60/100\n",
            "13/13 - 0s - loss: 1.1184 - accuracy: 0.7444\n",
            "Epoch 61/100\n",
            "13/13 - 0s - loss: 1.1197 - accuracy: 0.7444\n",
            "Epoch 62/100\n",
            "13/13 - 0s - loss: 1.0753 - accuracy: 0.7744\n",
            "Epoch 63/100\n",
            "13/13 - 0s - loss: 1.0359 - accuracy: 0.7769\n",
            "Epoch 64/100\n",
            "13/13 - 0s - loss: 0.9897 - accuracy: 0.7920\n",
            "Epoch 65/100\n",
            "13/13 - 0s - loss: 0.9666 - accuracy: 0.7820\n",
            "Epoch 66/100\n",
            "13/13 - 0s - loss: 0.9380 - accuracy: 0.7945\n",
            "Epoch 67/100\n",
            "13/13 - 0s - loss: 0.9037 - accuracy: 0.8271\n",
            "Epoch 68/100\n",
            "13/13 - 0s - loss: 0.8785 - accuracy: 0.8246\n",
            "Epoch 69/100\n",
            "13/13 - 0s - loss: 0.8359 - accuracy: 0.8396\n",
            "Epoch 70/100\n",
            "13/13 - 0s - loss: 0.8401 - accuracy: 0.8421\n",
            "Epoch 71/100\n",
            "13/13 - 0s - loss: 0.8283 - accuracy: 0.8396\n",
            "Epoch 72/100\n",
            "13/13 - 0s - loss: 0.7884 - accuracy: 0.8546\n",
            "Epoch 73/100\n",
            "13/13 - 0s - loss: 0.7665 - accuracy: 0.8571\n",
            "Epoch 74/100\n",
            "13/13 - 0s - loss: 0.7232 - accuracy: 0.8747\n",
            "Epoch 75/100\n",
            "13/13 - 0s - loss: 0.7002 - accuracy: 0.8797\n",
            "Epoch 76/100\n",
            "13/13 - 0s - loss: 0.6628 - accuracy: 0.8797\n",
            "Epoch 77/100\n",
            "13/13 - 0s - loss: 0.6387 - accuracy: 0.8922\n",
            "Epoch 78/100\n",
            "13/13 - 0s - loss: 0.6238 - accuracy: 0.9173\n",
            "Epoch 79/100\n",
            "13/13 - 0s - loss: 0.6039 - accuracy: 0.9148\n",
            "Epoch 80/100\n",
            "13/13 - 0s - loss: 0.5793 - accuracy: 0.9223\n",
            "Epoch 81/100\n",
            "13/13 - 0s - loss: 0.5379 - accuracy: 0.9449\n",
            "Epoch 82/100\n",
            "13/13 - 0s - loss: 0.5256 - accuracy: 0.9398\n",
            "Epoch 83/100\n",
            "13/13 - 0s - loss: 0.4975 - accuracy: 0.9449\n",
            "Epoch 84/100\n",
            "13/13 - 0s - loss: 0.4967 - accuracy: 0.9524\n",
            "Epoch 85/100\n",
            "13/13 - 0s - loss: 0.4813 - accuracy: 0.9474\n",
            "Epoch 86/100\n",
            "13/13 - 0s - loss: 0.4686 - accuracy: 0.9474\n",
            "Epoch 87/100\n",
            "13/13 - 0s - loss: 0.4415 - accuracy: 0.9524\n",
            "Epoch 88/100\n",
            "13/13 - 0s - loss: 0.4272 - accuracy: 0.9499\n",
            "Epoch 89/100\n",
            "13/13 - 0s - loss: 0.4097 - accuracy: 0.9649\n",
            "Epoch 90/100\n",
            "13/13 - 0s - loss: 0.3811 - accuracy: 0.9749\n",
            "Epoch 91/100\n",
            "13/13 - 0s - loss: 0.3763 - accuracy: 0.9649\n",
            "Epoch 92/100\n",
            "13/13 - 0s - loss: 0.3580 - accuracy: 0.9749\n",
            "Epoch 93/100\n",
            "13/13 - 0s - loss: 0.3437 - accuracy: 0.9825\n",
            "Epoch 94/100\n",
            "13/13 - 0s - loss: 0.3288 - accuracy: 0.9799\n",
            "Epoch 95/100\n",
            "13/13 - 0s - loss: 0.3138 - accuracy: 0.9900\n",
            "Epoch 96/100\n",
            "13/13 - 0s - loss: 0.3075 - accuracy: 0.9875\n",
            "Epoch 97/100\n",
            "13/13 - 0s - loss: 0.2982 - accuracy: 0.9900\n",
            "Epoch 98/100\n",
            "13/13 - 0s - loss: 0.2909 - accuracy: 0.9850\n",
            "Epoch 99/100\n",
            "13/13 - 0s - loss: 0.2730 - accuracy: 0.9925\n",
            "Epoch 100/100\n",
            "13/13 - 0s - loss: 0.2584 - accuracy: 0.9950\n"
          ],
          "name": "stdout"
        }
      ]
    },
    {
      "cell_type": "markdown",
      "metadata": {
        "id": "Jt9a4PZI02Qs",
        "colab_type": "text"
      },
      "source": [
        "We are now ready to develop our model."
      ]
    },
    {
      "cell_type": "markdown",
      "metadata": {
        "id": "PdfuqzoVrpqb",
        "colab_type": "text"
      },
      "source": [
        "## Generate Text"
      ]
    },
    {
      "cell_type": "markdown",
      "metadata": {
        "id": "Su5a8rWe353s",
        "colab_type": "text"
      },
      "source": [
        "In this section, we will develop a multichannel convolutional neural network for the sentiment analysis prediction problem. This section is divided into 3 parts:\n",
        "\n",
        "1.  Encode Data\n",
        "2.  Define Model.\n",
        "3.  Complete Example."
      ]
    },
    {
      "cell_type": "markdown",
      "metadata": {
        "id": "R1ifwli636pl",
        "colab_type": "text"
      },
      "source": [
        "### Encode Data"
      ]
    },
    {
      "cell_type": "markdown",
      "metadata": {
        "id": "dqxbs0r9rqra",
        "colab_type": "text"
      },
      "source": [
        "The first step is to load the cleaned training dataset. The function below-named load dataset() can be called to load the pickled training dataset.\n",
        "\n",
        "\n",
        "```python\n",
        "# load a clean dataset\n",
        "def load_dataset(filename):\n",
        "  return load(open(filename, 'rb'))\n",
        "\n",
        "trainLines, trainLabels = load_dataset('train.pkl')\n",
        "```\n",
        "\n",
        "Next, we must fit a Keras Tokenizer on the training dataset. We will use this tokenizer to both define the vocabulary for the Embedding layer and encode the review documents as integers.\n",
        "\n",
        "```python\n",
        "# fit a tokenizer\n",
        "def create_tokenizer(lines):\n",
        "  tokenizer = Tokenizer()\n",
        "  tokenizer.fit_on_texts(lines)\n",
        "  return tokenizer\n",
        "```\n",
        "\n",
        "We also need to know the maximum length of input sequences as input for the model and to pad all sequences to the fixed length.\n",
        "\n",
        "The function max length() below will calculate the maximum length (number of words) for all reviews in the training dataset.\n",
        "\n",
        "```python\n",
        "# calculate the maximum document length\n",
        "def max_length(lines):\n",
        "  return max([len(s.split()) for s in lines])\n",
        "```\n",
        "\n",
        "We also need to know the size of the vocabulary for the Embedding layer. This can be calculated from the prepared Tokenizer.\n",
        "\n",
        "```python\n",
        "# calculate vocabulary size\n",
        "vocab_size = len(tokenizer.word_index) + 1\n",
        "```\n",
        "\n",
        "Finally, we can integer encode and pad the clean movie review text. The function below named encode text() will both encode and pad text data to the maximum review length.\n",
        "\n",
        "```python\n",
        "# encode a list of lines\n",
        "def encode_text(tokenizer, lines, length):\n",
        "  # integer encode\n",
        "  encoded = tokenizer.texts_to_sequences(lines)\n",
        "  # pad encoded sequences\n",
        "  padded = pad_sequences(encoded, maxlen=length, padding='post')\n",
        "  return padded\n",
        "```\n",
        "\n",
        "\n",
        "\n",
        "\n",
        "\n",
        "\n"
      ]
    },
    {
      "cell_type": "markdown",
      "metadata": {
        "id": "kxOSY4i76vFF",
        "colab_type": "text"
      },
      "source": [
        "### Define Model"
      ]
    },
    {
      "cell_type": "markdown",
      "metadata": {
        "id": "5jCLBKNh6xl9",
        "colab_type": "text"
      },
      "source": [
        "A standard model for document classification is to use an Embedding layer as input, followed by a one-dimensional convolutional neural network, pooling layer, and then a prediction output layer. The kernel size in the convolutional layer defines the number of words to consider as the convolution is passed across the input text document, providing a grouping parameter. \n",
        "\n",
        "A multi-channel convolutional neural network for document classification involves using multiple versions of the standard model with different sized kernels. This allows the document to be processed at different resolutions or different n-grams (groups of words) at a time, whilst the model learns how to best integrate these interpretations.\n",
        "\n",
        "In Keras, a multiple-input model can be defined using the functional API. We will define a model with three input channels for processing 4-grams, 6-grams, and 8-grams of movie review text. Each channel is comprised of the following elements:\n",
        "\n",
        "* **Input layer** that defines the length of input sequences.\n",
        "* **Embedding layer** set to the size of the vocabulary and 100-dimensional real-valued representations.\n",
        "* **Conv1D layer** with 32 filters and a kernel size set to the number of words to read at once.\n",
        "* **MaxPooling1D layer** to consolidate the output from the convolutional layer.\n",
        "* **Flatten layer** to reduce the three-dimensional output to two dimensional for concatenation.\n",
        "\n",
        "The output from the three channels are concatenated into a single vector and process by a Dense layer and an output layer.\n",
        "\n",
        "```python\n",
        "# define the model\n",
        "def define_model(length, vocab_size):\n",
        "\n",
        "  # channel 1\n",
        "  inputs1 = Input(shape=(length,))\n",
        "  embedding1 = Embedding(vocab_size, 100)(inputs1)\n",
        "  conv1 = Conv1D(filters=32, kernel_size=4, activation='relu')(embedding1)\n",
        "  drop1 = Dropout(0.5)(conv1)\n",
        "  pool1 = MaxPooling1D(pool_size=2)(drop1)\n",
        "  flat1 = Flatten()(pool1)\n",
        "\n",
        "  # channel 2\n",
        "  inputs2 = Input(shape=(length,))\n",
        "  embedding2 = Embedding(vocab_size, 100)(inputs2)\n",
        "  conv2 = Conv1D(filters=32, kernel_size=6, activation='relu')(embedding2)\n",
        "  drop2 = Dropout(0.5)(conv2)\n",
        "  pool2 = MaxPooling1D(pool_size=2)(drop2)\n",
        "  flat2 = Flatten()(pool2)\n",
        "\n",
        "  # channel 3\n",
        "  inputs3 = Input(shape=(length,))\n",
        "  embedding3 = Embedding(vocab_size, 100)(inputs3)\n",
        "  conv3 = Conv1D(filters=32, kernel_size=8, activation='relu')(embedding3)\n",
        "  drop3 = Dropout(0.5)(conv3)\n",
        "  pool3 = MaxPooling1D(pool_size=2)(drop3)\n",
        "  flat3 = Flatten()(pool3)\n",
        "\n",
        "  # merge\n",
        "  merged = concatenate([flat1, flat2, flat3])\n",
        "\n",
        "  # interpretation\n",
        "  dense1 = Dense(10, activation='relu')(merged)\n",
        "  outputs = Dense(1, activation='sigmoid')(dense1)\n",
        "  model = Model(inputs=[inputs1, inputs2, inputs3], outputs=outputs)\n",
        "\n",
        "  # compile\n",
        "  model.compile(loss='binary_crossentropy', optimizer='adam', metrics=['accuracy'])\n",
        "  \n",
        "  # summarize\n",
        "  model.summary()\n",
        "  plot_model(model, show_shapes=True, to_file='multichannel.png')\n",
        "  return model\n",
        "```\n",
        "\n"
      ]
    },
    {
      "cell_type": "markdown",
      "metadata": {
        "id": "405rUsUR4lNf",
        "colab_type": "text"
      },
      "source": [
        "We can put all of this together in a single example."
      ]
    },
    {
      "cell_type": "code",
      "metadata": {
        "id": "uA1FM5YqkU2D",
        "colab_type": "code",
        "colab": {}
      },
      "source": [
        "from keras.preprocessing.text import Tokenizer\n",
        "from pickle import load\n",
        "\n",
        "\n",
        "# load dataset\n",
        "def load_dataset(filename):\n",
        "  # load dataset\n",
        "  return load(open(filename, 'rb'))\n",
        "\n",
        "# fit a tokenizer\n",
        "def create_tokenizer(lines):\n",
        "  tokenizer = Tokenizer()\n",
        "  tokenizer.fit_on_texts(lines)\n",
        "  return tokenizer\n",
        "\n",
        "# calculate the maximum document length\n",
        "def max_length(lines):\n",
        "  return max([len(line.split()) for line in lines])\n",
        "\n",
        "# encode a list of lines\n",
        "def encode_text(tokenizer, lines, max_length):\n",
        "  # integer encode\n",
        "  encoded = tokenizer.texts_to_sequences(lines)\n",
        "  # pad sequences\n",
        "  padded = pad_sequences(encoded, maxlen=max_length, padding='post')\n",
        "\n",
        "  return padded\n",
        "\n",
        "# define the model\n",
        "def define_model(max_length, vocab_size):\n",
        "\n",
        "  print('Creating channel.......')\n",
        "  # channel 1\n",
        "  inputs1 = Input(shape=(max_length, ))\n",
        "  embedding1 = Embedding(vocab_size, 100)(inputs1)\n",
        "  conv1 = Conv1D(filters=32, kernel_size=4, activation='relu')(embedding1)\n",
        "  drop1 = Dropout(0.5)(conv1)\n",
        "  pool1 = MaxPool1D(pool_size=2)(drop1)\n",
        "  flat1 = Flatten()(pool1)\n",
        "\n",
        "  print('Creating channe2.......')\n",
        "  # channel 2\n",
        "  inputs2 = Input(shape=(max_length, ))\n",
        "  embedding2 = Embedding(vocab_size, 100)(inputs2)\n",
        "  conv2 = Conv1D(filters=32, kernel_size=6, activation='relu')(embedding2)\n",
        "  drop2 = Dropout(0.5)(conv2)\n",
        "  pool2 = MaxPool1D(pool_size=2)(drop2)\n",
        "  flat2 = Flatten()(pool2)\n",
        "\n",
        "  print('Creating channe3.......')\n",
        "  # channel 3\n",
        "  inputs3 = Input(shape=(max_length, ))\n",
        "  embedding3 = Embedding(vocab_size, 100)(inputs3)\n",
        "  conv3 = Conv1D(filters=32, kernel_size=8, activation='relu')(embedding3)\n",
        "  drop3 = Dropout(0.5)(conv3)\n",
        "  pool3 = MaxPool1D(pool_size=2)(drop3)\n",
        "  flat3 = Flatten()(pool3)\n",
        "\n",
        "  print('Creating all channes.......')\n",
        "  # merge all channel\n",
        "  merged_layer = Concatenate([flat1, flat2, flat3])\n",
        "\n",
        "  # interpretation\n",
        "  dense_layer = Dense(10, activation='relu')(merged_layer)\n",
        "  output_layer = Dense(1, activation='sigmoid')(dense_layer)\n",
        "\n",
        "  print('Creating model.......')\n",
        "  # create model\n",
        "  model = Model(inputs=[inputs1, inputs2, inputs3], outputs=output_layer)\n",
        "\n",
        "  # compile model\n",
        "  model.compile(loss='binary_crossentropy', optimizer='adam', metrics=['accuracy'])\n",
        "\n",
        "  # summarize defined model\n",
        "  model.summary()\n",
        "\n",
        "  # plot model architecture\n",
        "  plot_model(model, to_file='model.png', show_shapes=True)\n",
        "\n",
        "  return model\n",
        "\n",
        "print('Loadin dataset.......')\n",
        "# load training dataset\n",
        "trainLines, trainLabels = load_dataset('train.pkl')\n",
        "# convert to array\n",
        "trainLines = np.array(trainLines)\n",
        "trainLabels = np.array(trainLabels)\n",
        "\n",
        "# create the tokenizer\n",
        "tokenizer = create_tokenizer(trainLines)\n",
        "\n",
        "# calculate the maximum document length\n",
        "max_length = max_length(trainLines)\n",
        "print(f'Maximum document length: {str(max_length)}')\n",
        "\n",
        "# calculate vocabulary size\n",
        "vocab_size = len(tokenizer.word_index) + 1\n",
        "print(f'Vocabulary size: {str(vocab_size)}')\n",
        "\n",
        "# encode data\n",
        "trainX = encode_text(tokenizer, trainLines, max_length)\n",
        "\n",
        "print('Creating model.......')\n",
        "# define model\n",
        "model = define_model(max_length, vocab_size)\n",
        "\n",
        "print('Traing model.......')\n",
        "# fit model\n",
        "model.fit([trainX, trainX, trainX], trainLabels, epochs=7, batch_size=16, verbose=1)\n",
        "\n",
        "# save the model\n",
        "model.save('model.h5')"
      ],
      "execution_count": 0,
      "outputs": []
    },
    {
      "cell_type": "markdown",
      "metadata": {
        "id": "kGBg8wz25chd",
        "colab_type": "text"
      },
      "source": [
        "## Evaluate Model"
      ]
    },
    {
      "cell_type": "markdown",
      "metadata": {
        "id": "YxYlcVYRN681",
        "colab_type": "text"
      },
      "source": [
        "We can evaluate the fit model by predicting the sentiment on all reviews in the unseen test dataset. Using the data loading functions developed in the previous section, we can load and encode both the training and test datasets."
      ]
    },
    {
      "cell_type": "code",
      "metadata": {
        "id": "Xm4qYNMzODBf",
        "colab_type": "code",
        "colab": {}
      },
      "source": [
        "# load datasets\n",
        "trainLines, trainLabels = load_dataset('train.pkl')\n",
        "testLines, testLabels = load_dataset('test.pkl')\n",
        "\n",
        "# create tokenizer\n",
        "tokenizer = create_tokenizer(trainLines)\n",
        "\n",
        "# calculate max document length\n",
        "length = max_length(trainLines)\n",
        "print(f'Max document length: {length}')\n",
        "\n",
        "# calculate vocabulary size\n",
        "vocab_size = len(tokenizer.word_index) + 1\n",
        "print(f'Vocabulary size: {vocab_size}')\n",
        "\n",
        "# encode data\n",
        "trainX = encode_text(tokenizer, trainLabels, length)\n",
        "testX = encode_text(tokenizer, testLines, length)\n",
        "\n",
        "# load the model\n",
        "model = load_model('model.h5')\n",
        "\n",
        "# evaluate model on training dataset\n",
        "_, acc = model.evaluate([trainX, trainX, trainX], trainLabels, verbose=0)\n",
        "print(f'Train Accuracy: {acc * 100}')\n",
        "\n",
        "# evaluate model on test dataset dataset\n",
        "_, acc = model.evaluate([testX, testX, testX], testLabels, verbose=0)\n",
        "print(f'Test Accuracy: {acc * 100}')"
      ],
      "execution_count": 0,
      "outputs": []
    },
    {
      "cell_type": "markdown",
      "metadata": {
        "id": "An1T_q5QR7ST",
        "colab_type": "text"
      },
      "source": [
        "We can see that, as expected, the skill on the training dataset is excellent, here at 100% accuracy. We can also see that the skill of the model on the unseen test dataset is also very impressive, achieving 88.5%, which is above the skill of the model reported in the 2014 paper."
      ]
    }
  ]
}