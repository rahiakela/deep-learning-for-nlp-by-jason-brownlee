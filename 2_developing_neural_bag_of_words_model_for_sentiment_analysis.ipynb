{
  "nbformat": 4,
  "nbformat_minor": 0,
  "metadata": {
    "colab": {
      "name": "2-developing-neural-bag-of-words-model-for-sentiment-analysis.ipynb",
      "provenance": [],
      "toc_visible": true,
      "authorship_tag": "ABX9TyOV4Na0jy6oHhmFeCkOqP8d",
      "include_colab_link": true
    },
    "kernelspec": {
      "name": "python3",
      "display_name": "Python 3"
    }
  },
  "cells": [
    {
      "cell_type": "markdown",
      "metadata": {
        "id": "view-in-github",
        "colab_type": "text"
      },
      "source": [
        "<a href=\"https://colab.research.google.com/github/rahiakela/deep-learning-for-nlp-by-jason-brownlee/blob/part-2-bag-of-words/2_developing_neural_bag_of_words_model_for_sentiment_analysis.ipynb\" target=\"_parent\"><img src=\"https://colab.research.google.com/assets/colab-badge.svg\" alt=\"Open In Colab\"/></a>"
      ]
    },
    {
      "cell_type": "markdown",
      "metadata": {
        "id": "qfh6KONLasT2",
        "colab_type": "text"
      },
      "source": [
        "# Developing a Neural Bag-of-Words Model for Sentiment Analysis"
      ]
    },
    {
      "cell_type": "markdown",
      "metadata": {
        "id": "-6-XEuaxbyJe",
        "colab_type": "text"
      },
      "source": [
        "Movie reviews can be classified as either favorable or not. The evaluation of movie review text is a classification problem often called sentiment analysis. A popular technique for developing sentiment analysis models is to use a bag-of-words model that transforms documents into vectors where each word in the document is assigned a score."
      ]
    },
    {
      "cell_type": "markdown",
      "metadata": {
        "id": "NohtiZJzjlJQ",
        "colab_type": "text"
      },
      "source": [
        "## Movie Review Dataset"
      ]
    },
    {
      "cell_type": "markdown",
      "metadata": {
        "id": "BI_4nRavjl0K",
        "colab_type": "text"
      },
      "source": [
        "The Movie Review Data is a collection of movie reviews retrieved from the imdb.com website in the early 2000s by Bo Pang and Lillian Lee. The reviews were collected and made available as part of their research on natural language processing.\n",
        "\n",
        "The dataset is comprised of 1,000 positive and 1,000 negative movie reviews drawn from an archive of the rec.arts.movies.reviews newsgroup hosted at IMDB. The authors refer to this dataset as the polarity dataset.\n",
        "\n",
        "The data has been cleaned up somewhat, for example:\n",
        "* The dataset is comprised of only English reviews.\n",
        "* All text has been converted to lowercase.\n",
        "* There is white space around punctuation like periods, commas, and brackets.\n",
        "* Text has been split into one sentence per line.\n",
        "\n",
        "The data has been used for a few related natural language processing tasks. For classification, the performance of classical models (such as Support Vector Machines) on the data is in the range of high 70% to low 80% (e.g. 78%-to-82%). More sophisticated data preparation may see results as high as 86% with 10-fold cross-validation.\n",
        "\n",
        "\n",
        "After unzipping the file, you will have a directory called txt sentoken with two sub-directories containing the text neg and pos for negative and positive reviews. Reviews are stored\n",
        "one per file with a naming convention from cv000 to cv999 for each of neg and pos.\n"
      ]
    },
    {
      "cell_type": "markdown",
      "metadata": {
        "id": "x75Yt91gjqtm",
        "colab_type": "text"
      },
      "source": [
        "## Load Text Data"
      ]
    },
    {
      "cell_type": "markdown",
      "metadata": {
        "id": "ZSZsk9bujrOP",
        "colab_type": "text"
      },
      "source": [
        "we will look at loading individual text files, then processing the directories of filles. We will fetch data from Github repository where we have storred this Movie Review Polarity Dataset and after fetching it will be available in the current working directory in the folder txt sentoken.\n",
        "\n",
        "We can load an individual text file by opening it, reading\n",
        "in the ASCII text, and closing the file. This is standard file handling stuff."
      ]
    },
    {
      "cell_type": "code",
      "metadata": {
        "id": "Sh6TKK0tjtWy",
        "colab_type": "code",
        "outputId": "065af4b3-a00e-4bdd-9a78-fec0af70747e",
        "colab": {
          "base_uri": "https://localhost:8080/",
          "height": 141
        }
      },
      "source": [
        "# fetch dataset from github\n",
        "! git clone https://github.com/rahiakela/machine-learning-datasets -b movie-review-polarity-dataset"
      ],
      "execution_count": 1,
      "outputs": [
        {
          "output_type": "stream",
          "text": [
            "Cloning into 'machine-learning-datasets'...\n",
            "remote: Enumerating objects: 2010, done.\u001b[K\n",
            "remote: Counting objects:   0% (1/2010)\u001b[K\rremote: Counting objects:   1% (21/2010)\u001b[K\rremote: Counting objects:   2% (41/2010)\u001b[K\rremote: Counting objects:   3% (61/2010)\u001b[K\rremote: Counting objects:   4% (81/2010)\u001b[K\rremote: Counting objects:   5% (101/2010)\u001b[K\rremote: Counting objects:   6% (121/2010)\u001b[K\rremote: Counting objects:   7% (141/2010)\u001b[K\rremote: Counting objects:   8% (161/2010)\u001b[K\rremote: Counting objects:   9% (181/2010)\u001b[K\rremote: Counting objects:  10% (201/2010)\u001b[K\rremote: Counting objects:  11% (222/2010)\u001b[K\rremote: Counting objects:  12% (242/2010)\u001b[K\rremote: Counting objects:  13% (262/2010)\u001b[K\rremote: Counting objects:  14% (282/2010)\u001b[K\rremote: Counting objects:  15% (302/2010)\u001b[K\rremote: Counting objects:  16% (322/2010)\u001b[K\rremote: Counting objects:  17% (342/2010)\u001b[K\rremote: Counting objects:  18% (362/2010)\u001b[K\rremote: Counting objects:  19% (382/2010)\u001b[K\rremote: Counting objects:  20% (402/2010)\u001b[K\rremote: Counting objects:  21% (423/2010)\u001b[K\rremote: Counting objects:  22% (443/2010)\u001b[K\rremote: Counting objects:  23% (463/2010)\u001b[K\rremote: Counting objects:  24% (483/2010)\u001b[K\rremote: Counting objects:  25% (503/2010)\u001b[K\rremote: Counting objects:  26% (523/2010)\u001b[K\rremote: Counting objects:  27% (543/2010)\u001b[K\rremote: Counting objects:  28% (563/2010)\u001b[K\rremote: Counting objects:  29% (583/2010)\u001b[K\rremote: Counting objects:  30% (603/2010)\u001b[K\rremote: Counting objects:  31% (624/2010)\u001b[K\rremote: Counting objects:  32% (644/2010)\u001b[K\rremote: Counting objects:  33% (664/2010)\u001b[K\rremote: Counting objects:  34% (684/2010)\u001b[K\rremote: Counting objects:  35% (704/2010)\u001b[K\rremote: Counting objects:  36% (724/2010)\u001b[K\rremote: Counting objects:  37% (744/2010)\u001b[K\rremote: Counting objects:  38% (764/2010)\u001b[K\rremote: Counting objects:  39% (784/2010)\u001b[K\rremote: Counting objects:  40% (804/2010)\u001b[K\rremote: Counting objects:  41% (825/2010)\u001b[K\rremote: Counting objects:  42% (845/2010)\u001b[K\rremote: Counting objects:  43% (865/2010)\u001b[K\rremote: Counting objects:  44% (885/2010)\u001b[K\rremote: Counting objects:  45% (905/2010)\u001b[K\rremote: Counting objects:  46% (925/2010)\u001b[K\rremote: Counting objects:  47% (945/2010)\u001b[K\rremote: Counting objects:  48% (965/2010)\u001b[K\rremote: Counting objects:  49% (985/2010)\u001b[K\rremote: Counting objects:  50% (1005/2010)\u001b[K\rremote: Counting objects:  51% (1026/2010)\u001b[K\rremote: Counting objects:  52% (1046/2010)\u001b[K\rremote: Counting objects:  53% (1066/2010)\u001b[K\rremote: Counting objects:  54% (1086/2010)\u001b[K\rremote: Counting objects:  55% (1106/2010)\u001b[K\rremote: Counting objects:  56% (1126/2010)\u001b[K\rremote: Counting objects:  57% (1146/2010)\u001b[K\rremote: Counting objects:  58% (1166/2010)\u001b[K\rremote: Counting objects:  59% (1186/2010)\u001b[K\rremote: Counting objects:  60% (1206/2010)\u001b[K\rremote: Counting objects:  61% (1227/2010)\u001b[K\rremote: Counting objects:  62% (1247/2010)\u001b[K\rremote: Counting objects:  63% (1267/2010)\u001b[K\rremote: Counting objects:  64% (1287/2010)\u001b[K\rremote: Counting objects:  65% (1307/2010)\u001b[K\rremote: Counting objects:  66% (1327/2010)\u001b[K\rremote: Counting objects:  67% (1347/2010)\u001b[K\rremote: Counting objects:  68% (1367/2010)\u001b[K\rremote: Counting objects:  69% (1387/2010)\u001b[K\rremote: Counting objects:  70% (1407/2010)\u001b[K\rremote: Counting objects:  71% (1428/2010)\u001b[K\rremote: Counting objects:  72% (1448/2010)\u001b[K\rremote: Counting objects:  73% (1468/2010)\u001b[K\rremote: Counting objects:  74% (1488/2010)\u001b[K\rremote: Counting objects:  75% (1508/2010)\u001b[K\rremote: Counting objects:  76% (1528/2010)\u001b[K\rremote: Counting objects:  77% (1548/2010)\u001b[K\rremote: Counting objects:  78% (1568/2010)\u001b[K\rremote: Counting objects:  79% (1588/2010)\u001b[K\rremote: Counting objects:  80% (1608/2010)\u001b[K\rremote: Counting objects:  81% (1629/2010)\u001b[K\rremote: Counting objects:  82% (1649/2010)\u001b[K\rremote: Counting objects:  83% (1669/2010)\u001b[K\rremote: Counting objects:  84% (1689/2010)\u001b[K\rremote: Counting objects:  85% (1709/2010)\u001b[K\rremote: Counting objects:  86% (1729/2010)\u001b[K\rremote: Counting objects:  87% (1749/2010)\u001b[K\rremote: Counting objects:  88% (1769/2010)\u001b[K\rremote: Counting objects:  89% (1789/2010)\u001b[K\rremote: Counting objects:  90% (1809/2010)\u001b[K\rremote: Counting objects:  91% (1830/2010)\u001b[K\rremote: Counting objects:  92% (1850/2010)\u001b[K\rremote: Counting objects:  93% (1870/2010)\u001b[K\rremote: Counting objects:  94% (1890/2010)\u001b[K\rremote: Counting objects:  95% (1910/2010)\u001b[K\rremote: Counting objects:  96% (1930/2010)\u001b[K\rremote: Counting objects:  97% (1950/2010)\u001b[K\rremote: Counting objects:  98% (1970/2010)\u001b[K\rremote: Counting objects:  99% (1990/2010)\u001b[K\rremote: Counting objects: 100% (2010/2010)\u001b[K\rremote: Counting objects: 100% (2010/2010), done.\u001b[K\n",
            "remote: Compressing objects:   0% (1/2009)\u001b[K\rremote: Compressing objects:   1% (21/2009)\u001b[K\rremote: Compressing objects:   2% (41/2009)\u001b[K\rremote: Compressing objects:   3% (61/2009)\u001b[K\rremote: Compressing objects:   4% (81/2009)\u001b[K\rremote: Compressing objects:   5% (101/2009)\u001b[K\rremote: Compressing objects:   6% (121/2009)\u001b[K\rremote: Compressing objects:   7% (141/2009)\u001b[K\rremote: Compressing objects:   8% (161/2009)\u001b[K\rremote: Compressing objects:   9% (181/2009)\u001b[K\rremote: Compressing objects:  10% (201/2009)\u001b[K\rremote: Compressing objects:  11% (221/2009)\u001b[K\rremote: Compressing objects:  12% (242/2009)\u001b[K\rremote: Compressing objects:  13% (262/2009)\u001b[K\rremote: Compressing objects:  14% (282/2009)\u001b[K\rremote: Compressing objects:  15% (302/2009)\u001b[K\rremote: Compressing objects:  16% (322/2009)\u001b[K\rremote: Compressing objects:  17% (342/2009)\u001b[K\rremote: Compressing objects:  18% (362/2009)\u001b[K\rremote: Compressing objects:  19% (382/2009)\u001b[K\rremote: Compressing objects:  20% (402/2009)\u001b[K\rremote: Compressing objects:  21% (422/2009)\u001b[K\rremote: Compressing objects:  22% (442/2009)\u001b[K\rremote: Compressing objects:  23% (463/2009)\u001b[K\rremote: Compressing objects:  24% (483/2009)\u001b[K\rremote: Compressing objects:  25% (503/2009)\u001b[K\rremote: Compressing objects:  26% (523/2009)\u001b[K\rremote: Compressing objects:  27% (543/2009)\u001b[K\rremote: Compressing objects:  28% (563/2009)\u001b[K\rremote: Compressing objects:  29% (583/2009)\u001b[K\rremote: Compressing objects:  30% (603/2009)\u001b[K\rremote: Compressing objects:  31% (623/2009)\u001b[K\rremote: Compressing objects:  32% (643/2009)\u001b[K\rremote: Compressing objects:  33% (663/2009)\u001b[K\rremote: Compressing objects:  34% (684/2009)\u001b[K\rremote: Compressing objects:  35% (704/2009)\u001b[K\rremote: Compressing objects:  36% (724/2009)\u001b[K\rremote: Compressing objects:  37% (744/2009)\u001b[K\rremote: Compressing objects:  38% (764/2009)\u001b[K\rremote: Compressing objects:  39% (784/2009)\u001b[K\rremote: Compressing objects:  40% (804/2009)\u001b[K\rremote: Compressing objects:  41% (824/2009)\u001b[K\rremote: Compressing objects:  42% (844/2009)\u001b[K\rremote: Compressing objects:  43% (864/2009)\u001b[K\rremote: Compressing objects:  44% (884/2009)\u001b[K\rremote: Compressing objects:  45% (905/2009)\u001b[K\rremote: Compressing objects:  46% (925/2009)\u001b[K\rremote: Compressing objects:  47% (945/2009)\u001b[K\rremote: Compressing objects:  48% (965/2009)\u001b[K\rremote: Compressing objects:  49% (985/2009)\u001b[K\rremote: Compressing objects:  50% (1005/2009)\u001b[K\rremote: Compressing objects:  51% (1025/2009)\u001b[K\rremote: Compressing objects:  52% (1045/2009)\u001b[K\rremote: Compressing objects:  53% (1065/2009)\u001b[K\rremote: Compressing objects:  54% (1085/2009)\u001b[K\rremote: Compressing objects:  55% (1105/2009)\u001b[K\rremote: Compressing objects:  56% (1126/2009)\u001b[K\rremote: Compressing objects:  57% (1146/2009)\u001b[K\rremote: Compressing objects:  58% (1166/2009)\u001b[K\rremote: Compressing objects:  59% (1186/2009)\u001b[K\rremote: Compressing objects:  60% (1206/2009)\u001b[K\rremote: Compressing objects:  61% (1226/2009)\u001b[K\rremote: Compressing objects:  62% (1246/2009)\u001b[K\rremote: Compressing objects:  63% (1266/2009)\u001b[K\rremote: Compressing objects:  64% (1286/2009)\u001b[K\rremote: Compressing objects:  65% (1306/2009)\u001b[K\rremote: Compressing objects:  66% (1326/2009)\u001b[K\rremote: Compressing objects:  67% (1347/2009)\u001b[K\rremote: Compressing objects:  68% (1367/2009)\u001b[K\rremote: Compressing objects:  69% (1387/2009)\u001b[K\rremote: Compressing objects:  70% (1407/2009)\u001b[K\rremote: Compressing objects:  71% (1427/2009)\u001b[K\rremote: Compressing objects:  72% (1447/2009)\u001b[K\rremote: Compressing objects:  73% (1467/2009)\u001b[K\rremote: Compressing objects:  74% (1487/2009)\u001b[K\rremote: Compressing objects:  75% (1507/2009)\u001b[K\rremote: Compressing objects:  76% (1527/2009)\u001b[K\rremote: Compressing objects:  77% (1547/2009)\u001b[K\rremote: Compressing objects:  78% (1568/2009)\u001b[K\rremote: Compressing objects:  79% (1588/2009)\u001b[K\rremote: Compressing objects:  80% (1608/2009)\u001b[K\rremote: Compressing objects:  81% (1628/2009)\u001b[K\rremote: Compressing objects:  82% (1648/2009)\u001b[K\rremote: Compressing objects:  83% (1668/2009)\u001b[K\rremote: Compressing objects:  84% (1688/2009)\u001b[K\rremote: Compressing objects:  85% (1708/2009)\u001b[K\rremote: Compressing objects:  86% (1728/2009)\u001b[K\rremote: Compressing objects:  87% (1748/2009)\u001b[K\rremote: Compressing objects:  88% (1768/2009)\u001b[K\rremote: Compressing objects:  89% (1789/2009)\u001b[K\rremote: Compressing objects:  90% (1809/2009)\u001b[K\rremote: Compressing objects:  91% (1829/2009)\u001b[K\rremote: Compressing objects:  92% (1849/2009)\u001b[K\rremote: Compressing objects:  93% (1869/2009)\u001b[K\rremote: Compressing objects:  94% (1889/2009)\u001b[K\rremote: Compressing objects:  95% (1909/2009)\u001b[K\rremote: Compressing objects:  96% (1929/2009)\u001b[K\rremote: Compressing objects:  97% (1949/2009)\u001b[K\rremote: Compressing objects:  98% (1969/2009)\u001b[K\rremote: Compressing objects:  99% (1989/2009)\u001b[K\rremote: Compressing objects: 100% (2009/2009)\u001b[K\rremote: Compressing objects: 100% (2009/2009), done.\u001b[K\n",
            "Receiving objects:   0% (1/2010)   \rReceiving objects:   1% (21/2010)   \rReceiving objects:   2% (41/2010)   \rReceiving objects:   3% (61/2010)   \rReceiving objects:   4% (81/2010)   \rReceiving objects:   5% (101/2010)   \rReceiving objects:   6% (121/2010)   \rReceiving objects:   7% (141/2010)   \rReceiving objects:   8% (161/2010)   \rReceiving objects:   9% (181/2010)   \rReceiving objects:  10% (201/2010)   \rReceiving objects:  11% (222/2010)   \rReceiving objects:  12% (242/2010)   \rReceiving objects:  13% (262/2010)   \rReceiving objects:  14% (282/2010)   \rReceiving objects:  15% (302/2010)   \rReceiving objects:  16% (322/2010)   \rReceiving objects:  17% (342/2010)   \rReceiving objects:  18% (362/2010)   \rReceiving objects:  19% (382/2010)   \rReceiving objects:  20% (402/2010)   \rReceiving objects:  21% (423/2010)   \rReceiving objects:  22% (443/2010)   \rReceiving objects:  23% (463/2010)   \rReceiving objects:  24% (483/2010)   \rReceiving objects:  25% (503/2010)   \rReceiving objects:  26% (523/2010)   \rReceiving objects:  27% (543/2010)   \rReceiving objects:  28% (563/2010)   \rReceiving objects:  29% (583/2010)   \rReceiving objects:  30% (603/2010)   \rReceiving objects:  31% (624/2010)   \rReceiving objects:  32% (644/2010)   \rReceiving objects:  33% (664/2010)   \rReceiving objects:  34% (684/2010)   \rReceiving objects:  35% (704/2010)   \rReceiving objects:  36% (724/2010)   \rReceiving objects:  37% (744/2010)   \rReceiving objects:  38% (764/2010)   \rReceiving objects:  39% (784/2010)   \rReceiving objects:  40% (804/2010)   \rReceiving objects:  41% (825/2010)   \rReceiving objects:  42% (845/2010)   \rReceiving objects:  43% (865/2010)   \rReceiving objects:  44% (885/2010)   \rReceiving objects:  45% (905/2010)   \rReceiving objects:  46% (925/2010)   \rReceiving objects:  47% (945/2010)   \rReceiving objects:  48% (965/2010)   \rReceiving objects:  49% (985/2010)   \rReceiving objects:  50% (1005/2010)   \rReceiving objects:  51% (1026/2010)   \rReceiving objects:  52% (1046/2010)   \rReceiving objects:  53% (1066/2010)   \rReceiving objects:  54% (1086/2010)   \rReceiving objects:  55% (1106/2010)   \rReceiving objects:  56% (1126/2010)   \rReceiving objects:  57% (1146/2010)   \rReceiving objects:  58% (1166/2010)   \rReceiving objects:  59% (1186/2010)   \rReceiving objects:  60% (1206/2010)   \rReceiving objects:  61% (1227/2010)   \rReceiving objects:  62% (1247/2010)   \rReceiving objects:  63% (1267/2010)   \rReceiving objects:  64% (1287/2010)   \rReceiving objects:  65% (1307/2010)   \rReceiving objects:  66% (1327/2010)   \rReceiving objects:  67% (1347/2010)   \rReceiving objects:  68% (1367/2010)   \rReceiving objects:  69% (1387/2010)   \rReceiving objects:  70% (1407/2010)   \rReceiving objects:  71% (1428/2010)   \rReceiving objects:  72% (1448/2010)   \rReceiving objects:  73% (1468/2010)   \rReceiving objects:  74% (1488/2010)   \rReceiving objects:  75% (1508/2010)   \rReceiving objects:  76% (1528/2010)   \rReceiving objects:  77% (1548/2010)   \rReceiving objects:  78% (1568/2010)   \rReceiving objects:  79% (1588/2010)   \rReceiving objects:  80% (1608/2010)   \rReceiving objects:  81% (1629/2010)   \rReceiving objects:  82% (1649/2010)   \rReceiving objects:  83% (1669/2010)   \rReceiving objects:  84% (1689/2010)   \rReceiving objects:  85% (1709/2010)   \rReceiving objects:  86% (1729/2010)   \rReceiving objects:  87% (1749/2010)   \rReceiving objects:  88% (1769/2010)   \rReceiving objects:  89% (1789/2010)   \rReceiving objects:  90% (1809/2010)   \rReceiving objects:  91% (1830/2010)   \rReceiving objects:  92% (1850/2010)   \rReceiving objects:  93% (1870/2010)   \rReceiving objects:  94% (1890/2010)   \rReceiving objects:  95% (1910/2010)   \rReceiving objects:  96% (1930/2010)   \rReceiving objects:  97% (1950/2010)   \rReceiving objects:  98% (1970/2010)   \rremote: Total 2010 (delta 1), reused 2009 (delta 0), pack-reused 0\u001b[K\n",
            "Receiving objects:  99% (1990/2010)   \rReceiving objects: 100% (2010/2010)   \rReceiving objects: 100% (2010/2010), 3.55 MiB | 18.47 MiB/s, done.\n",
            "Resolving deltas:   0% (0/1)   \rResolving deltas: 100% (1/1)   \rResolving deltas: 100% (1/1), done.\n"
          ],
          "name": "stdout"
        }
      ]
    },
    {
      "cell_type": "markdown",
      "metadata": {
        "id": "E2FS8kSjj6KZ",
        "colab_type": "text"
      },
      "source": [
        "## Data Preparation"
      ]
    },
    {
      "cell_type": "markdown",
      "metadata": {
        "id": "tGTKCRWFj6_x",
        "colab_type": "text"
      },
      "source": [
        "In this section, we will look at 3 things:\n",
        "\n",
        "1.   Separation of data into training and test sets.\n",
        "2.   Loading and cleaning the data to remove punctuation and numbers.\n",
        "3.   Defining a vocabulary of preferred words.\n",
        "\n"
      ]
    },
    {
      "cell_type": "markdown",
      "metadata": {
        "id": "KjJS3tQakSOe",
        "colab_type": "text"
      },
      "source": [
        "### Split into Train and Test Sets"
      ]
    },
    {
      "cell_type": "markdown",
      "metadata": {
        "id": "ZTTxAfwrkT34",
        "colab_type": "text"
      },
      "source": [
        "We are pretending that we are developing a system that can predict the sentiment of a textual movie review as either positive or negative. This means that after the model is developed, we will need to make predictions on new textual reviews. This will require all of the same data preparation to be performed on those new reviews as is performed on the training data for the model.\n",
        "\n",
        "We will ensure that this constraint is built into the evaluation of our models by splitting the training and test datasets prior to any data preparation. This means that any knowledge in the\n",
        "test set that could help us better prepare the data (e.g. the words used) is unavailable during the preparation of data and the training of the model. \n",
        "\n",
        "That being said, we will use the last 100 positive reviews and the last 100 negative reviews as a test set (100 reviews) and the remaining 1,800 reviews as the training dataset. This is a 90% train, 10% split of the data. The split can be imposed easily by using the filenames of the reviews where reviews named 000 to 899 are for training data and reviews named 900 onwards are for testing the model.\n",
        "\n"
      ]
    },
    {
      "cell_type": "markdown",
      "metadata": {
        "id": "38CSD7eIlEul",
        "colab_type": "text"
      },
      "source": [
        "### Loading and Cleaning Reviews"
      ]
    },
    {
      "cell_type": "markdown",
      "metadata": {
        "id": "EAmwRJvwlFy1",
        "colab_type": "text"
      },
      "source": [
        "The text data is already pretty clean, so not much preparation is required. Without getting too much into the details, we will prepare the data using the following method:\n",
        "\n",
        "* Split tokens on white space.\n",
        "* Remove all punctuation from words.\n",
        "* Remove all words that are not purely comprised of alphabetical characters.\n",
        "* Remove all words that are known stop words.\n",
        "* Remove all words that have a length <= 1 character.\n",
        "\n"
      ]
    },
    {
      "cell_type": "code",
      "metadata": {
        "id": "bwd9MUaDoLDt",
        "colab_type": "code",
        "outputId": "614a768f-5bfa-4b99-98ff-915e9f914ffc",
        "colab": {
          "base_uri": "https://localhost:8080/",
          "height": 70
        }
      },
      "source": [
        "import nltk\n",
        "nltk.download('stopwords')"
      ],
      "execution_count": 2,
      "outputs": [
        {
          "output_type": "stream",
          "text": [
            "[nltk_data] Downloading package stopwords to /root/nltk_data...\n",
            "[nltk_data]   Unzipping corpora/stopwords.zip.\n"
          ],
          "name": "stdout"
        },
        {
          "output_type": "execute_result",
          "data": {
            "text/plain": [
              "True"
            ]
          },
          "metadata": {
            "tags": []
          },
          "execution_count": 2
        }
      ]
    },
    {
      "cell_type": "code",
      "metadata": {
        "id": "BxqZugLnjz59",
        "colab_type": "code",
        "outputId": "2064ab57-98f5-44c7-ed81-bde4bb5ce573",
        "colab": {
          "base_uri": "https://localhost:8080/",
          "height": 55
        }
      },
      "source": [
        "from nltk.corpus import stopwords\n",
        "import string\n",
        "import re\n",
        "\n",
        "# load doc into memory\n",
        "def load_doc(filename):\n",
        "  # open the file as read only\n",
        "  file = open(filename, 'r')\n",
        "  # read all text\n",
        "  text = file.read()\n",
        "  # close the file\n",
        "  file.close()\n",
        "\n",
        "  return text\n",
        "\n",
        "# turn a doc into clean tokens\n",
        "def clean_doc(doc):\n",
        "  # split into tokens by white space\n",
        "  tokens = doc.split()\n",
        "  # prepare regex for char filtering\n",
        "  re_punc = re.compile('[%s]' % re.escape(string.punctuation))\n",
        "  # remove punctuation from each word\n",
        "  tokens = [re_punc.sub('', w) for w in tokens]\n",
        "  # remove remaining tokens that are not alphabetic\n",
        "  tokens = [word for word in tokens if word.isalpha()]\n",
        "  # filter out stop words\n",
        "  stop_words = set(stopwords.words('english'))\n",
        "  tokens = [w for w in tokens if not w in stop_words]\n",
        "  # filter out short tokens\n",
        "  tokens = [word for word in tokens if len(word) > 1]\n",
        "  return tokens\n",
        "\n",
        "# define base path for dataset\n",
        "base_path = 'machine-learning-datasets/movie-review-polarity-dataset/txt_sentoken'\n",
        "\n",
        "# load one file\n",
        "filename = base_path + '/pos/cv000_29590.txt'\n",
        "text = load_doc(filename)\n",
        "\n",
        "# clean doc\n",
        "tokens = clean_doc(text)\n",
        "print(tokens)"
      ],
      "execution_count": 3,
      "outputs": [
        {
          "output_type": "stream",
          "text": [
            "['films', 'adapted', 'comic', 'books', 'plenty', 'success', 'whether', 'theyre', 'superheroes', 'batman', 'superman', 'spawn', 'geared', 'toward', 'kids', 'casper', 'arthouse', 'crowd', 'ghost', 'world', 'theres', 'never', 'really', 'comic', 'book', 'like', 'hell', 'starters', 'created', 'alan', 'moore', 'eddie', 'campbell', 'brought', 'medium', 'whole', 'new', 'level', 'mid', 'series', 'called', 'watchmen', 'say', 'moore', 'campbell', 'thoroughly', 'researched', 'subject', 'jack', 'ripper', 'would', 'like', 'saying', 'michael', 'jackson', 'starting', 'look', 'little', 'odd', 'book', 'graphic', 'novel', 'pages', 'long', 'includes', 'nearly', 'consist', 'nothing', 'footnotes', 'words', 'dont', 'dismiss', 'film', 'source', 'get', 'past', 'whole', 'comic', 'book', 'thing', 'might', 'find', 'another', 'stumbling', 'block', 'hells', 'directors', 'albert', 'allen', 'hughes', 'getting', 'hughes', 'brothers', 'direct', 'seems', 'almost', 'ludicrous', 'casting', 'carrot', 'top', 'well', 'anything', 'riddle', 'better', 'direct', 'film', 'thats', 'set', 'ghetto', 'features', 'really', 'violent', 'street', 'crime', 'mad', 'geniuses', 'behind', 'menace', 'ii', 'society', 'ghetto', 'question', 'course', 'whitechapel', 'londons', 'east', 'end', 'filthy', 'sooty', 'place', 'whores', 'called', 'unfortunates', 'starting', 'get', 'little', 'nervous', 'mysterious', 'psychopath', 'carving', 'profession', 'surgical', 'precision', 'first', 'stiff', 'turns', 'copper', 'peter', 'godley', 'robbie', 'coltrane', 'world', 'enough', 'calls', 'inspector', 'frederick', 'abberline', 'johnny', 'depp', 'blow', 'crack', 'case', 'abberline', 'widower', 'prophetic', 'dreams', 'unsuccessfully', 'tries', 'quell', 'copious', 'amounts', 'absinthe', 'opium', 'upon', 'arriving', 'whitechapel', 'befriends', 'unfortunate', 'named', 'mary', 'kelly', 'heather', 'graham', 'say', 'isnt', 'proceeds', 'investigate', 'horribly', 'gruesome', 'crimes', 'even', 'police', 'surgeon', 'cant', 'stomach', 'dont', 'think', 'anyone', 'needs', 'briefed', 'jack', 'ripper', 'wont', 'go', 'particulars', 'say', 'moore', 'campbell', 'unique', 'interesting', 'theory', 'identity', 'killer', 'reasons', 'chooses', 'slay', 'comic', 'dont', 'bother', 'cloaking', 'identity', 'ripper', 'screenwriters', 'terry', 'hayes', 'vertical', 'limit', 'rafael', 'yglesias', 'les', 'mis', 'rables', 'good', 'job', 'keeping', 'hidden', 'viewers', 'end', 'funny', 'watch', 'locals', 'blindly', 'point', 'finger', 'blame', 'jews', 'indians', 'englishman', 'could', 'never', 'capable', 'committing', 'ghastly', 'acts', 'hells', 'ending', 'whistling', 'stonecutters', 'song', 'simpsons', 'days', 'holds', 'back', 'electric', 'carwho', 'made', 'steve', 'guttenberg', 'star', 'dont', 'worry', 'itll', 'make', 'sense', 'see', 'onto', 'hells', 'appearance', 'certainly', 'dark', 'bleak', 'enough', 'surprising', 'see', 'much', 'looks', 'like', 'tim', 'burton', 'film', 'planet', 'apes', 'times', 'seems', 'like', 'sleepy', 'hollow', 'print', 'saw', 'wasnt', 'completely', 'finished', 'color', 'music', 'finalized', 'comments', 'marilyn', 'manson', 'cinematographer', 'peter', 'deming', 'dont', 'say', 'word', 'ably', 'captures', 'dreariness', 'victorianera', 'london', 'helped', 'make', 'flashy', 'killing', 'scenes', 'remind', 'crazy', 'flashbacks', 'twin', 'peaks', 'even', 'though', 'violence', 'film', 'pales', 'comparison', 'blackandwhite', 'comic', 'oscar', 'winner', 'martin', 'childs', 'shakespeare', 'love', 'production', 'design', 'turns', 'original', 'prague', 'surroundings', 'one', 'creepy', 'place', 'even', 'acting', 'hell', 'solid', 'dreamy', 'depp', 'turning', 'typically', 'strong', 'performance', 'deftly', 'handling', 'british', 'accent', 'ians', 'holm', 'joe', 'goulds', 'secret', 'richardson', 'dalmatians', 'log', 'great', 'supporting', 'roles', 'big', 'surprise', 'graham', 'cringed', 'first', 'time', 'opened', 'mouth', 'imagining', 'attempt', 'irish', 'accent', 'actually', 'wasnt', 'half', 'bad', 'film', 'however', 'good', 'strong', 'violencegore', 'sexuality', 'language', 'drug', 'content']\n"
          ],
          "name": "stdout"
        }
      ]
    },
    {
      "cell_type": "markdown",
      "metadata": {
        "id": "J5Lix7FJjv1g",
        "colab_type": "text"
      },
      "source": [
        "### Define a Vocabulary"
      ]
    },
    {
      "cell_type": "markdown",
      "metadata": {
        "id": "cmGm44jpoTH7",
        "colab_type": "text"
      },
      "source": [
        "It is important to define a vocabulary of known words when using a bag-of-words model. The more words, the larger the representation of documents, therefore it is important to constrain the words to only those believed to be predictive. \n",
        "\n",
        "This is dificult to know beforehand and often it is important to test difierent hypotheses about how to construct a useful vocabulary. We have already seen how we can remove punctuation and numbers from the vocabulary in the previous section. We can repeat this for all documents and build a set of all known words.\n",
        "\n",
        "We can develop a vocabulary as a Counter, which is a dictionary mapping of words and their count that allows us to easily update and query. Each document can be added to the counter and we can step over all of the reviews in the negative directory and then the positive directory,"
      ]
    },
    {
      "cell_type": "code",
      "metadata": {
        "id": "vr8WX9g4pBaV",
        "colab_type": "code",
        "outputId": "765c6aca-c868-4f79-e86c-1ea025bfa84e",
        "colab": {
          "base_uri": "https://localhost:8080/",
          "height": 72
        }
      },
      "source": [
        "# load doc and add to vocab\n",
        "def add_doc_to_vocab(filename, vocab):\n",
        "  # load doc\n",
        "  doc = load_doc(filename)\n",
        "  # clean doc\n",
        "  tokens = clean_doc(doc)\n",
        "  # update counts\n",
        "  vocab.update(tokens)\n",
        "\n",
        "# load all docs in a directory\n",
        "def process_docs(directory, vocab):\n",
        "  # walk through all files in the folder\n",
        "  for filename in listdir(directory):\n",
        "    # skip any reviews in the test set\n",
        "    if filename.startswith('cv9'):\n",
        "      continue\n",
        "    # create the full path of the file to open\n",
        "    path = directory + '/' + filename\n",
        "    # add doc to vocab\n",
        "    add_doc_to_vocab(path, vocab)\n",
        "\n",
        "from os import listdir\n",
        "from collections import Counter\n",
        "\n",
        "# define vocab\n",
        "vocab = Counter()\n",
        "\n",
        "# add all docs to vocab\n",
        "process_docs(base_path + '/pos', vocab)\n",
        "process_docs(base_path + '/neg', vocab)\n",
        "\n",
        "# print the size of the vocab\n",
        "print(len(vocab))\n",
        "\n",
        "# print the top words in the vocab\n",
        "print(vocab.most_common(50))"
      ],
      "execution_count": 4,
      "outputs": [
        {
          "output_type": "stream",
          "text": [
            "44276\n",
            "[('film', 7983), ('one', 4946), ('movie', 4826), ('like', 3201), ('even', 2262), ('good', 2080), ('time', 2041), ('story', 1907), ('films', 1873), ('would', 1844), ('much', 1824), ('also', 1757), ('characters', 1735), ('get', 1724), ('character', 1703), ('two', 1643), ('first', 1588), ('see', 1557), ('way', 1515), ('well', 1511), ('make', 1418), ('really', 1407), ('little', 1351), ('life', 1334), ('plot', 1288), ('people', 1269), ('could', 1248), ('bad', 1248), ('scene', 1241), ('movies', 1238), ('never', 1201), ('best', 1179), ('new', 1140), ('scenes', 1135), ('man', 1131), ('many', 1130), ('doesnt', 1118), ('know', 1092), ('dont', 1086), ('hes', 1024), ('great', 1014), ('another', 992), ('action', 985), ('love', 977), ('us', 967), ('go', 952), ('director', 948), ('end', 946), ('something', 945), ('still', 936)]\n"
          ],
          "name": "stdout"
        }
      ]
    },
    {
      "cell_type": "markdown",
      "metadata": {
        "id": "dhSeu-kGqem3",
        "colab_type": "text"
      },
      "source": [
        "We can step through the vocabulary and remove all words that have a low occurrence, such as only being used once or twice in all reviews."
      ]
    },
    {
      "cell_type": "code",
      "metadata": {
        "id": "B3lHJ4eHpfDm",
        "colab_type": "code",
        "outputId": "85d17db5-3783-4e3d-af50-5397b2450908",
        "colab": {
          "base_uri": "https://localhost:8080/",
          "height": 35
        }
      },
      "source": [
        "# keep tokens with > 2 occurrence\n",
        "min_occurane = 2\n",
        "tokens = [k for k, c in vocab.items() if c > min_occurane]\n",
        "print(len(tokens))"
      ],
      "execution_count": 5,
      "outputs": [
        {
          "output_type": "stream",
          "text": [
            "19604\n"
          ],
          "name": "stdout"
        }
      ]
    },
    {
      "cell_type": "markdown",
      "metadata": {
        "id": "cJK7EcAhqois",
        "colab_type": "text"
      },
      "source": [
        "Finally, the vocabulary can be saved to a new file called vocab.txt that we can later load and use to filter movie reviews prior to encoding them for modeling."
      ]
    },
    {
      "cell_type": "code",
      "metadata": {
        "id": "oQuuQTooqjr6",
        "colab_type": "code",
        "colab": {}
      },
      "source": [
        "def save_list(lines, filename):\n",
        "  # convert lines to a single blob of text\n",
        "  data = '\\n'.join(lines)\n",
        "  file = open(filename, 'w')\n",
        "  file.write(data)\n",
        "  file.close()\n",
        "\n",
        "# save tokens to a vocabulary file\n",
        "save_list(tokens, 'vocab.txt')"
      ],
      "execution_count": 0,
      "outputs": []
    },
    {
      "cell_type": "markdown",
      "metadata": {
        "id": "PdfuqzoVrpqb",
        "colab_type": "text"
      },
      "source": [
        "## Bag-of-Words Representation"
      ]
    },
    {
      "cell_type": "markdown",
      "metadata": {
        "id": "dqxbs0r9rqra",
        "colab_type": "text"
      },
      "source": [
        "In this section, we will look at how we can convert each review into a representation that we can provide to a Multilayer Perceptron model. A bag-of-words model is a way of extracting\n",
        "features from text so the text input can be used with machine learning algorithms like neural networks. Each document, in this case a review, is converted into a vector representation.\n",
        "\n",
        "The number of items in the vector representing a document corresponds to the number of words in the vocabulary. The larger the vocabulary, the longer the vector representation, hence\n",
        "the preference for smaller vocabularies in the previous section.\n",
        "\n",
        "Words in a document are scored and the scores are placed in the corresponding location in the representation. We will look at different word scoring methods in the next section. In this\n",
        "section, we are concerned with converting reviews into vectors ready for training a first neural network model. \n",
        "\n",
        "This section is divided into 2 steps:\n",
        "* Converting reviews to lines of tokens.\n",
        "* Encoding reviews with a bag-of-words model representation."
      ]
    },
    {
      "cell_type": "markdown",
      "metadata": {
        "id": "9-7KDUKmgyc4",
        "colab_type": "text"
      },
      "source": [
        "### Reviews to Lines of Tokens"
      ]
    },
    {
      "cell_type": "markdown",
      "metadata": {
        "id": "OHp7MeSAgzlJ",
        "colab_type": "text"
      },
      "source": [
        "Before we can convert reviews to vectors for modeling, we must first clean them up. This involves loading them, performing the cleaning operation developed above, filtering out words\n",
        "not in the chosen vocabulary, and converting the remaining tokens into a single string or line ready for encoding."
      ]
    },
    {
      "cell_type": "code",
      "metadata": {
        "id": "fg0jPJpwrLy1",
        "colab_type": "code",
        "colab": {}
      },
      "source": [
        "# load doc, clean and return line of tokens\n",
        "def doc_to_line(filename, vocab):\n",
        "  # load the doc\n",
        "  doc = load_doc(filename)\n",
        "  # clean doc\n",
        "  tokens = clean_doc(doc)\n",
        "  # filter by vocab\n",
        "  tokens = [w for w in tokens if w in vocab]\n",
        "\n",
        "  return ' '.join(tokens)\n",
        "\n",
        "# load all docs in a directory\n",
        "def process_docs(directory, vocab):\n",
        "  lines = list()\n",
        "  # walk through all files in the folder\n",
        "  for filename in listdir(directory):\n",
        "    # skip files that do not have the right extension\n",
        "    if filename.startswith('cv9'):\n",
        "      continue\n",
        "    # create the full path of the file to open\n",
        "    path = directory + '/' + filename\n",
        "    # load and clean the doc\n",
        "    line = doc_to_line(path, vocab)\n",
        "    # add to list\n",
        "    lines.append(line)\n",
        "\n",
        "  return lines"
      ],
      "execution_count": 0,
      "outputs": []
    },
    {
      "cell_type": "markdown",
      "metadata": {
        "id": "467oPwYLhuif",
        "colab_type": "text"
      },
      "source": [
        "We can call the process docs() consistently for positive and negative reviews to construct a dataset of review text and their associated output labels, 0 for negative and 1 for positive."
      ]
    },
    {
      "cell_type": "code",
      "metadata": {
        "id": "-MuNsovchQvk",
        "colab_type": "code",
        "colab": {}
      },
      "source": [
        "# load and clean a dataset\n",
        "def load_clean_dataset(vocab):\n",
        "  # load documents\n",
        "  neg = process_docs(base_path + '/neg', vocab)\n",
        "  pos = process_docs(base_path + '/pos', vocab)\n",
        "\n",
        "  docs = neg + pos\n",
        "\n",
        "  # prepare labels\n",
        "  labels = [0 for _ in range(len(neg))] + [1 for _ in range(len(pos))]\n",
        "  return docs, labels"
      ],
      "execution_count": 0,
      "outputs": []
    },
    {
      "cell_type": "markdown",
      "metadata": {
        "id": "kLwCkFwRirnf",
        "colab_type": "text"
      },
      "source": [
        "Finally, we need to load the vocabulary and turn it into a set for use in cleaning reviews."
      ]
    },
    {
      "cell_type": "code",
      "metadata": {
        "id": "wNACid3xikCy",
        "colab_type": "code",
        "colab": {}
      },
      "source": [
        "# load the vocabulary\n",
        "vocab_filename = 'vocab.txt'\n",
        "vocab = load_doc(vocab_filename)\n",
        "vocab = set(vocab.split())"
      ],
      "execution_count": 0,
      "outputs": []
    },
    {
      "cell_type": "code",
      "metadata": {
        "id": "QZ3r_F3yjBFH",
        "colab_type": "code",
        "colab": {
          "base_uri": "https://localhost:8080/",
          "height": 35
        },
        "outputId": "fcebe048-c49e-4efb-d4fc-2c4e0db56bd0"
      },
      "source": [
        "# load all training reviews\n",
        "docs, labels = load_clean_dataset(vocab)\n",
        "# summarize what we have\n",
        "print(len(docs), len(labels))"
      ],
      "execution_count": 12,
      "outputs": [
        {
          "output_type": "stream",
          "text": [
            "1800 1800\n"
          ],
          "name": "stdout"
        }
      ]
    },
    {
      "cell_type": "markdown",
      "metadata": {
        "id": "jHgm9Hqukqlg",
        "colab_type": "text"
      },
      "source": [
        "### Movie Reviews to Bag-of-Words Vectors"
      ]
    },
    {
      "cell_type": "markdown",
      "metadata": {
        "id": "znsuEf27krr8",
        "colab_type": "text"
      },
      "source": [
        "We will use the Keras API to convert reviews to encoded document vectors. Keras provides the Tokenizer class that can do some of the cleaning and vocab definition tasks.It is better to do this ourselves to know exactly what was done and why. \n",
        "\n",
        "Nevertheless, the Tokenizer class is convenient and will easily transform documents into encoded vectors. First, the Tokenizer must be created, then fit on the text documents in the training dataset. In this case, these are the aggregation of the positive lines and negative lines arrays.\n",
        "\n",
        "```python\n",
        "# fit a tokenizer\n",
        "def create_tokenizer(lines):\n",
        "  tokenizer = Tokenizer()\n",
        "  tokenizer.fit_on_texts(lines)\n",
        "  return tokenizer\n",
        "```\n",
        "\n",
        "This process determines a consistent way to convert the vocabulary to a fixed-length vector with 25,768 elements, which is the total number of words in the vocabulary file vocab.txt.\n",
        "\n",
        "Next, documents can then be encoded using the Tokenizer by calling texts to matrix(). The function takes both a list of documents to encode and an encoding mode, which is the method\n",
        "used to score words in the document. Here we specify freq to score words based on their frequency in the document. This can be used to encode the loaded training and test data, for example.\n",
        "\n",
        "```python\n",
        "# encode data\n",
        "Xtrain = tokenizer.texts_to_matrix(train_docs, mode='freq')\n",
        "Xtest = tokenizer.texts_to_matrix(test_docs, mode='freq')\n",
        "```\n",
        "This encodes all of the positive and negative reviews in the training dataset.\n",
        "\n",
        "```python\n",
        "# load all docs in a directory\n",
        "def process_docs(directory, vocab, is_train):\n",
        "  lines = list()\n",
        "  # walk through all files in the folder\n",
        "  for filename in listdir(directory):\n",
        "    # skip files that do not have the right extension\n",
        "    if is_train and filename.startswith('cv9'):\n",
        "      continue\n",
        "    if is_train and not filename.startswith('cv9'):\n",
        "      continue\n",
        "    # create the full path of the file to open\n",
        "    path = directory + '/' + filename\n",
        "    # load and clean the doc\n",
        "    line = doc_to_line(path, vocab)\n",
        "    # add to list\n",
        "    lines.append(line)\n",
        "\n",
        "  return lines\n",
        "```\n",
        "\n",
        "Similarly, the load clean dataset() dataset must be updated to load either train or test data.\n",
        "\n",
        "```python\n",
        "# load and clean a dataset\n",
        "def load_clean_dataset(vocab, is_train):\n",
        "  # load documents\n",
        "  neg = process_docs(base_path + '/neg', vocab, is_train)\n",
        "  pos = process_docs(base_path + '/pos', vocab, is_train)\n",
        "\n",
        "  docs = neg + pos\n",
        "\n",
        "  # prepare labels\n",
        "  labels = [0 for _ in range(len(neg))] + [1 for _ in range(len(pos))]\n",
        "  return docs, labels\n",
        "```\n"
      ]
    },
    {
      "cell_type": "code",
      "metadata": {
        "id": "uA1FM5YqkU2D",
        "colab_type": "code",
        "colab": {
          "base_uri": "https://localhost:8080/",
          "height": 387
        },
        "outputId": "06cf62d1-6895-4333-ba48-593db7ac9e88"
      },
      "source": [
        "from keras.preprocessing.text import Tokenizer\n",
        "\n",
        "# load all docs in a directory\n",
        "def process_docs(directory, vocab, is_train):\n",
        "  lines = list()\n",
        "  # walk through all files in the folder\n",
        "  for filename in listdir(directory):\n",
        "    # skip files that do not have the right extension\n",
        "    if is_train and filename.startswith('cv9'):\n",
        "      continue\n",
        "    if is_train and not filename.startswith('cv9'):\n",
        "      continue\n",
        "    # create the full path of the file to open\n",
        "    path = directory + '/' + filename\n",
        "    # load and clean the doc\n",
        "    line = doc_to_line(path, vocab)\n",
        "    # add to list\n",
        "    lines.append(line)\n",
        "\n",
        "  return lines\n",
        "\n",
        "# load and clean a dataset\n",
        "def load_clean_dataset(vocab, is_train):\n",
        "  # load documents\n",
        "  neg = process_docs(base_path + '/neg', vocab, is_train)\n",
        "  pos = process_docs(base_path + '/pos', vocab, is_train)\n",
        "\n",
        "  docs = neg + pos\n",
        "\n",
        "  # prepare labels\n",
        "  labels = [0 for _ in range(len(neg))] + [1 for _ in range(len(pos))]\n",
        "  return docs, labels\n",
        "\n",
        "# fit a tokenizer\n",
        "def create_tokenizer(lines):\n",
        "  tokenizer = Tokenizer()\n",
        "  tokenizer.fit_on_texts(lines)\n",
        "  return tokenizer\n",
        "\n",
        "# load all reviews\n",
        "train_docs, ytrain = load_clean_dataset(vocab, True)\n",
        "test_docs, ytest = load_clean_dataset(vocab, False)\n",
        "\n",
        "# create the tokenizer\n",
        "tokenizer = create_tokenizer(train_docs)\n",
        "\n",
        "# encode data\n",
        "Xtrain = tokenizer.texts_to_matrix(train_docs, mode='freq')\n",
        "Xtest = tokenizer.texts_to_matrix(test_docs, mode='freq')\n",
        "print(Xtrain.shape, Xtest.shape)"
      ],
      "execution_count": 16,
      "outputs": [
        {
          "output_type": "error",
          "ename": "ValueError",
          "evalue": "ignored",
          "traceback": [
            "\u001b[0;31m---------------------------------------------------------------------------\u001b[0m",
            "\u001b[0;31mValueError\u001b[0m                                Traceback (most recent call last)",
            "\u001b[0;32m<ipython-input-16-6f6da61c56a6>\u001b[0m in \u001b[0;36m<module>\u001b[0;34m()\u001b[0m\n\u001b[1;32m     46\u001b[0m \u001b[0;34m\u001b[0m\u001b[0m\n\u001b[1;32m     47\u001b[0m \u001b[0;31m# encode data\u001b[0m\u001b[0;34m\u001b[0m\u001b[0;34m\u001b[0m\u001b[0;34m\u001b[0m\u001b[0m\n\u001b[0;32m---> 48\u001b[0;31m \u001b[0mXtrain\u001b[0m \u001b[0;34m=\u001b[0m \u001b[0mtokenizer\u001b[0m\u001b[0;34m.\u001b[0m\u001b[0mtexts_to_matrix\u001b[0m\u001b[0;34m(\u001b[0m\u001b[0mtrain_docs\u001b[0m\u001b[0;34m,\u001b[0m \u001b[0mmode\u001b[0m\u001b[0;34m=\u001b[0m\u001b[0;34m'freq'\u001b[0m\u001b[0;34m)\u001b[0m\u001b[0;34m\u001b[0m\u001b[0;34m\u001b[0m\u001b[0m\n\u001b[0m\u001b[1;32m     49\u001b[0m \u001b[0mXtest\u001b[0m \u001b[0;34m=\u001b[0m \u001b[0mtokenizer\u001b[0m\u001b[0;34m.\u001b[0m\u001b[0mtexts_to_matrix\u001b[0m\u001b[0;34m(\u001b[0m\u001b[0mtest_docs\u001b[0m\u001b[0;34m,\u001b[0m \u001b[0mmode\u001b[0m\u001b[0;34m=\u001b[0m\u001b[0;34m'freq'\u001b[0m\u001b[0;34m)\u001b[0m\u001b[0;34m\u001b[0m\u001b[0;34m\u001b[0m\u001b[0m\n\u001b[1;32m     50\u001b[0m \u001b[0mprint\u001b[0m\u001b[0;34m(\u001b[0m\u001b[0mXtrain\u001b[0m\u001b[0;34m.\u001b[0m\u001b[0mshape\u001b[0m\u001b[0;34m,\u001b[0m \u001b[0mXtest\u001b[0m\u001b[0;34m.\u001b[0m\u001b[0mshape\u001b[0m\u001b[0;34m)\u001b[0m\u001b[0;34m\u001b[0m\u001b[0;34m\u001b[0m\u001b[0m\n",
            "\u001b[0;32m/usr/local/lib/python3.6/dist-packages/keras_preprocessing/text.py\u001b[0m in \u001b[0;36mtexts_to_matrix\u001b[0;34m(self, texts, mode)\u001b[0m\n\u001b[1;32m    379\u001b[0m         \"\"\"\n\u001b[1;32m    380\u001b[0m         \u001b[0msequences\u001b[0m \u001b[0;34m=\u001b[0m \u001b[0mself\u001b[0m\u001b[0;34m.\u001b[0m\u001b[0mtexts_to_sequences\u001b[0m\u001b[0;34m(\u001b[0m\u001b[0mtexts\u001b[0m\u001b[0;34m)\u001b[0m\u001b[0;34m\u001b[0m\u001b[0;34m\u001b[0m\u001b[0m\n\u001b[0;32m--> 381\u001b[0;31m         \u001b[0;32mreturn\u001b[0m \u001b[0mself\u001b[0m\u001b[0;34m.\u001b[0m\u001b[0msequences_to_matrix\u001b[0m\u001b[0;34m(\u001b[0m\u001b[0msequences\u001b[0m\u001b[0;34m,\u001b[0m \u001b[0mmode\u001b[0m\u001b[0;34m=\u001b[0m\u001b[0mmode\u001b[0m\u001b[0;34m)\u001b[0m\u001b[0;34m\u001b[0m\u001b[0;34m\u001b[0m\u001b[0m\n\u001b[0m\u001b[1;32m    382\u001b[0m \u001b[0;34m\u001b[0m\u001b[0m\n\u001b[1;32m    383\u001b[0m     \u001b[0;32mdef\u001b[0m \u001b[0msequences_to_matrix\u001b[0m\u001b[0;34m(\u001b[0m\u001b[0mself\u001b[0m\u001b[0;34m,\u001b[0m \u001b[0msequences\u001b[0m\u001b[0;34m,\u001b[0m \u001b[0mmode\u001b[0m\u001b[0;34m=\u001b[0m\u001b[0;34m'binary'\u001b[0m\u001b[0;34m)\u001b[0m\u001b[0;34m:\u001b[0m\u001b[0;34m\u001b[0m\u001b[0;34m\u001b[0m\u001b[0m\n",
            "\u001b[0;32m/usr/local/lib/python3.6/dist-packages/keras_preprocessing/text.py\u001b[0m in \u001b[0;36msequences_to_matrix\u001b[0;34m(self, sequences, mode)\u001b[0m\n\u001b[1;32m    400\u001b[0m                 \u001b[0mnum_words\u001b[0m \u001b[0;34m=\u001b[0m \u001b[0mlen\u001b[0m\u001b[0;34m(\u001b[0m\u001b[0mself\u001b[0m\u001b[0;34m.\u001b[0m\u001b[0mword_index\u001b[0m\u001b[0;34m)\u001b[0m \u001b[0;34m+\u001b[0m \u001b[0;36m1\u001b[0m\u001b[0;34m\u001b[0m\u001b[0;34m\u001b[0m\u001b[0m\n\u001b[1;32m    401\u001b[0m             \u001b[0;32melse\u001b[0m\u001b[0;34m:\u001b[0m\u001b[0;34m\u001b[0m\u001b[0;34m\u001b[0m\u001b[0m\n\u001b[0;32m--> 402\u001b[0;31m                 raise ValueError('Specify a dimension (`num_words` argument), '\n\u001b[0m\u001b[1;32m    403\u001b[0m                                  'or fit on some text data first.')\n\u001b[1;32m    404\u001b[0m         \u001b[0;32melse\u001b[0m\u001b[0;34m:\u001b[0m\u001b[0;34m\u001b[0m\u001b[0;34m\u001b[0m\u001b[0m\n",
            "\u001b[0;31mValueError\u001b[0m: Specify a dimension (`num_words` argument), or fit on some text data first."
          ]
        }
      ]
    },
    {
      "cell_type": "code",
      "metadata": {
        "id": "ARD7nUYgtrR-",
        "colab_type": "code",
        "colab": {}
      },
      "source": [
        ""
      ],
      "execution_count": 0,
      "outputs": []
    }
  ]
}